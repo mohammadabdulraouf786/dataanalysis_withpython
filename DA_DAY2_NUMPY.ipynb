{
  "nbformat": 4,
  "nbformat_minor": 0,
  "metadata": {
    "colab": {
      "provenance": [],
      "authorship_tag": "ABX9TyOhFjkyk4WYNYZ6wxCLPOF3",
      "include_colab_link": true
    },
    "kernelspec": {
      "name": "python3",
      "display_name": "Python 3"
    },
    "language_info": {
      "name": "python"
    }
  },
  "cells": [
    {
      "cell_type": "markdown",
      "metadata": {
        "id": "view-in-github",
        "colab_type": "text"
      },
      "source": [
        "<a href=\"https://colab.research.google.com/github/mohammadabdulraouf786/dataanalysis_withpython/blob/main/DA_DAY2_NUMPY.ipynb\" target=\"_parent\"><img src=\"https://colab.research.google.com/assets/colab-badge.svg\" alt=\"Open In Colab\"/></a>"
      ]
    },
    {
      "cell_type": "code",
      "execution_count": null,
      "metadata": {
        "id": "j9ru5Z0-q2x7"
      },
      "outputs": [],
      "source": [
        "import numpy as np"
      ]
    },
    {
      "cell_type": "markdown",
      "source": [
        "Randam module is sub-pacakge of numpy"
      ],
      "metadata": {
        "id": "wBywacXyut5N"
      }
    },
    {
      "cell_type": "code",
      "source": [
        "a=np.arange(32).reshape(8,4)\n",
        "print(a)"
      ],
      "metadata": {
        "colab": {
          "base_uri": "https://localhost:8080/"
        },
        "id": "vBaSSJ3qrKTU",
        "outputId": "3a8c4502-5459-4bb9-db55-549fb4088bec"
      },
      "execution_count": null,
      "outputs": [
        {
          "output_type": "stream",
          "name": "stdout",
          "text": [
            "[[ 0  1  2  3]\n",
            " [ 4  5  6  7]\n",
            " [ 8  9 10 11]\n",
            " [12 13 14 15]\n",
            " [16 17 18 19]\n",
            " [20 21 22 23]\n",
            " [24 25 26 27]\n",
            " [28 29 30 31]]\n"
          ]
        }
      ]
    },
    {
      "cell_type": "code",
      "source": [
        "a=np.random.rand(1)\n",
        "print(a)"
      ],
      "metadata": {
        "colab": {
          "base_uri": "https://localhost:8080/"
        },
        "id": "I1F0iiXItGmD",
        "outputId": "c6083f3f-017a-41a0-c96c-a37ab8a6e119"
      },
      "execution_count": null,
      "outputs": [
        {
          "output_type": "stream",
          "name": "stdout",
          "text": [
            "[0.87696973]\n"
          ]
        }
      ]
    },
    {
      "cell_type": "code",
      "source": [
        "a=np.random.rand(8,4)#rand range is 0-1\n",
        "print(a)"
      ],
      "metadata": {
        "colab": {
          "base_uri": "https://localhost:8080/"
        },
        "id": "WuUEjaOTt1uh",
        "outputId": "8fdbafb9-3105-4131-c5b8-1a6af8c7f9fe"
      },
      "execution_count": null,
      "outputs": [
        {
          "output_type": "stream",
          "name": "stdout",
          "text": [
            "[[0.57464117 0.83687068 0.45425328 0.60496999]\n",
            " [0.72568792 0.46054256 0.71147165 0.40739646]\n",
            " [0.33595454 0.4068873  0.00841026 0.33083781]\n",
            " [0.38059563 0.57535552 0.6699255  0.31599232]\n",
            " [0.98600216 0.66111631 0.29085235 0.89510749]\n",
            " [0.46764918 0.93424498 0.48867401 0.17995965]\n",
            " [0.63598249 0.57167986 0.20013252 0.26317498]\n",
            " [0.4270372  0.02630446 0.45361937 0.28286854]]\n"
          ]
        }
      ]
    },
    {
      "cell_type": "code",
      "source": [
        "a=10*np.random.rand(8,4)\n",
        "print(a)"
      ],
      "metadata": {
        "colab": {
          "base_uri": "https://localhost:8080/"
        },
        "id": "dWMqYiEzvAvJ",
        "outputId": "e978843c-f7a5-434c-f988-744df01fdb23"
      },
      "execution_count": null,
      "outputs": [
        {
          "output_type": "stream",
          "name": "stdout",
          "text": [
            "[[6.3815958  7.98207843 1.94746589 2.963545  ]\n",
            " [0.58624162 8.51492045 5.30809315 2.82846371]\n",
            " [6.22739918 4.24276193 9.35374635 0.94670103]\n",
            " [9.17174569 0.166081   4.77829622 5.15957417]\n",
            " [2.4274675  8.581914   1.90223209 3.49360303]\n",
            " [4.62230184 3.64042418 8.79588321 3.13228233]\n",
            " [5.86085476 8.70201802 8.66564686 6.62118116]\n",
            " [8.0875223  6.58909685 0.93450617 3.04334952]]\n"
          ]
        }
      ]
    },
    {
      "cell_type": "code",
      "source": [
        "a=np.floor(10*np.random.rand(8,4))\n",
        "print(a)"
      ],
      "metadata": {
        "colab": {
          "base_uri": "https://localhost:8080/"
        },
        "id": "vYoSHpwAvIDy",
        "outputId": "266528e0-3e36-447d-b98b-05539f3512b1"
      },
      "execution_count": null,
      "outputs": [
        {
          "output_type": "stream",
          "name": "stdout",
          "text": [
            "[[0. 4. 6. 3.]\n",
            " [4. 0. 2. 1.]\n",
            " [6. 0. 9. 6.]\n",
            " [2. 8. 9. 2.]\n",
            " [5. 3. 4. 5.]\n",
            " [0. 7. 7. 5.]\n",
            " [8. 1. 1. 7.]\n",
            " [5. 9. 6. 4.]]\n"
          ]
        }
      ]
    },
    {
      "cell_type": "code",
      "source": [
        "print(np.vsplit(a,4))"
      ],
      "metadata": {
        "colab": {
          "base_uri": "https://localhost:8080/"
        },
        "id": "yZ4fq2kSvfR7",
        "outputId": "0019f1db-f570-4326-d897-b356477b960a"
      },
      "execution_count": null,
      "outputs": [
        {
          "output_type": "stream",
          "name": "stdout",
          "text": [
            "[array([[0., 4., 6., 3.],\n",
            "       [4., 0., 2., 1.]]), array([[6., 0., 9., 6.],\n",
            "       [2., 8., 9., 2.]]), array([[5., 3., 4., 5.],\n",
            "       [0., 7., 7., 5.]]), array([[8., 1., 1., 7.],\n",
            "       [5., 9., 6., 4.]])]\n"
          ]
        }
      ]
    },
    {
      "cell_type": "code",
      "source": [
        "np.vsplit(a,4)"
      ],
      "metadata": {
        "colab": {
          "base_uri": "https://localhost:8080/"
        },
        "id": "eBtbKb9Xwo4H",
        "outputId": "7a4bbedc-7585-493b-aa1d-2b954bce539d"
      },
      "execution_count": null,
      "outputs": [
        {
          "output_type": "execute_result",
          "data": {
            "text/plain": [
              "[array([[0., 4., 6., 3.],\n",
              "        [4., 0., 2., 1.]]),\n",
              " array([[6., 0., 9., 6.],\n",
              "        [2., 8., 9., 2.]]),\n",
              " array([[5., 3., 4., 5.],\n",
              "        [0., 7., 7., 5.]]),\n",
              " array([[8., 1., 1., 7.],\n",
              "        [5., 9., 6., 4.]])]"
            ]
          },
          "metadata": {},
          "execution_count": 15
        }
      ]
    },
    {
      "cell_type": "code",
      "source": [
        "np.vsplit(a,(3,5))#split after 3 row and 5 row"
      ],
      "metadata": {
        "colab": {
          "base_uri": "https://localhost:8080/"
        },
        "id": "WkmNMwNUyMP_",
        "outputId": "4a6f0215-dee7-4db2-967d-5cbfe0e8a3eb"
      },
      "execution_count": null,
      "outputs": [
        {
          "output_type": "execute_result",
          "data": {
            "text/plain": [
              "[array([[0., 4., 6., 3.],\n",
              "        [4., 0., 2., 1.],\n",
              "        [6., 0., 9., 6.]]),\n",
              " array([[2., 8., 9., 2.],\n",
              "        [5., 3., 4., 5.]]),\n",
              " array([[0., 7., 7., 5.],\n",
              "        [8., 1., 1., 7.],\n",
              "        [5., 9., 6., 4.]])]"
            ]
          },
          "metadata": {},
          "execution_count": 17
        }
      ]
    },
    {
      "cell_type": "code",
      "source": [
        "#create an array with 4 rows and 8 columns\n",
        "a=np.arange(32).reshape(4,8)\n",
        "print(a)"
      ],
      "metadata": {
        "colab": {
          "base_uri": "https://localhost:8080/"
        },
        "id": "Rw_AGOwRyhaT",
        "outputId": "e791b708-1b9b-4acf-efa3-7eea4b08883b"
      },
      "execution_count": null,
      "outputs": [
        {
          "output_type": "stream",
          "name": "stdout",
          "text": [
            "[[ 0  1  2  3  4  5  6  7]\n",
            " [ 8  9 10 11 12 13 14 15]\n",
            " [16 17 18 19 20 21 22 23]\n",
            " [24 25 26 27 28 29 30 31]]\n"
          ]
        }
      ]
    },
    {
      "cell_type": "code",
      "source": [
        "np.vsplit(a,4)"
      ],
      "metadata": {
        "colab": {
          "base_uri": "https://localhost:8080/"
        },
        "id": "KYqcpi6xzyjG",
        "outputId": "701bb4e0-14a7-44a6-e50d-1cae711f8a95"
      },
      "execution_count": null,
      "outputs": [
        {
          "output_type": "execute_result",
          "data": {
            "text/plain": [
              "[array([[0, 1, 2, 3, 4, 5, 6, 7]]),\n",
              " array([[ 8,  9, 10, 11, 12, 13, 14, 15]]),\n",
              " array([[16, 17, 18, 19, 20, 21, 22, 23]]),\n",
              " array([[24, 25, 26, 27, 28, 29, 30, 31]])]"
            ]
          },
          "metadata": {},
          "execution_count": 19
        }
      ]
    },
    {
      "cell_type": "code",
      "source": [
        "np.hsplit(a,4)"
      ],
      "metadata": {
        "colab": {
          "base_uri": "https://localhost:8080/"
        },
        "id": "PWDoFhUnz4Rx",
        "outputId": "b289dc67-63d9-4564-a9a7-7c0a409f8936"
      },
      "execution_count": null,
      "outputs": [
        {
          "output_type": "execute_result",
          "data": {
            "text/plain": [
              "[array([[ 0,  1],\n",
              "        [ 8,  9],\n",
              "        [16, 17],\n",
              "        [24, 25]]),\n",
              " array([[ 2,  3],\n",
              "        [10, 11],\n",
              "        [18, 19],\n",
              "        [26, 27]]),\n",
              " array([[ 4,  5],\n",
              "        [12, 13],\n",
              "        [20, 21],\n",
              "        [28, 29]]),\n",
              " array([[ 6,  7],\n",
              "        [14, 15],\n",
              "        [22, 23],\n",
              "        [30, 31]])]"
            ]
          },
          "metadata": {},
          "execution_count": 20
        }
      ]
    },
    {
      "cell_type": "code",
      "source": [
        "np.hsplit(a,(3,7))"
      ],
      "metadata": {
        "colab": {
          "base_uri": "https://localhost:8080/"
        },
        "id": "NcgB-IFZ0qAT",
        "outputId": "45e7b4af-21f8-4ff6-e35d-dff257da65e2"
      },
      "execution_count": null,
      "outputs": [
        {
          "output_type": "execute_result",
          "data": {
            "text/plain": [
              "[array([[ 0,  1,  2],\n",
              "        [ 8,  9, 10],\n",
              "        [16, 17, 18],\n",
              "        [24, 25, 26]]),\n",
              " array([[ 3,  4,  5,  6],\n",
              "        [11, 12, 13, 14],\n",
              "        [19, 20, 21, 22],\n",
              "        [27, 28, 29, 30]]),\n",
              " array([[ 7],\n",
              "        [15],\n",
              "        [23],\n",
              "        [31]])]"
            ]
          },
          "metadata": {},
          "execution_count": 21
        }
      ]
    },
    {
      "cell_type": "code",
      "source": [
        "np.hsplit(a,(2,5))"
      ],
      "metadata": {
        "colab": {
          "base_uri": "https://localhost:8080/"
        },
        "id": "JJ-Y9z8g2ivo",
        "outputId": "19678cfc-0d72-4433-e568-3488daddf08a"
      },
      "execution_count": null,
      "outputs": [
        {
          "output_type": "execute_result",
          "data": {
            "text/plain": [
              "[array([[ 0,  1],\n",
              "        [ 8,  9],\n",
              "        [16, 17],\n",
              "        [24, 25]]),\n",
              " array([[ 2,  3,  4],\n",
              "        [10, 11, 12],\n",
              "        [18, 19, 20],\n",
              "        [26, 27, 28]]),\n",
              " array([[ 5,  6,  7],\n",
              "        [13, 14, 15],\n",
              "        [21, 22, 23],\n",
              "        [29, 30, 31]])]"
            ]
          },
          "metadata": {},
          "execution_count": 23
        }
      ]
    },
    {
      "cell_type": "markdown",
      "source": [
        "Trigonmetry"
      ],
      "metadata": {
        "id": "D3fF1xQ13bCh"
      }
    },
    {
      "cell_type": "code",
      "source": [
        "np.pi"
      ],
      "metadata": {
        "colab": {
          "base_uri": "https://localhost:8080/"
        },
        "id": "rd5X4GE53fuX",
        "outputId": "6c5766ec-1505-4dff-d623-36d56affc89e"
      },
      "execution_count": null,
      "outputs": [
        {
          "output_type": "execute_result",
          "data": {
            "text/plain": [
              "3.141592653589793"
            ]
          },
          "metadata": {},
          "execution_count": 24
        }
      ]
    },
    {
      "cell_type": "code",
      "source": [
        "a=[np.pi/4,np.pi/3,np.pi/2,np.pi]\n",
        "print(a)"
      ],
      "metadata": {
        "colab": {
          "base_uri": "https://localhost:8080/"
        },
        "id": "MSDlFN4j3kL4",
        "outputId": "f75330de-cc6f-4125-ba47-f9bfd794ed65"
      },
      "execution_count": null,
      "outputs": [
        {
          "output_type": "stream",
          "name": "stdout",
          "text": [
            "[0.7853981633974483, 1.0471975511965976, 1.5707963267948966, 3.141592653589793]\n"
          ]
        }
      ]
    },
    {
      "cell_type": "code",
      "source": [
        "np.rad2deg(a)#convert radians to degree"
      ],
      "metadata": {
        "colab": {
          "base_uri": "https://localhost:8080/"
        },
        "id": "l5kGlhhA4AmX",
        "outputId": "c7898740-b63e-4c0d-bf12-a3205589ed36"
      },
      "execution_count": null,
      "outputs": [
        {
          "output_type": "execute_result",
          "data": {
            "text/plain": [
              "array([ 45.,  60.,  90., 180.])"
            ]
          },
          "metadata": {},
          "execution_count": 27
        }
      ]
    },
    {
      "cell_type": "code",
      "source": [
        "np.deg2rad(a)#convert degree to radians"
      ],
      "metadata": {
        "colab": {
          "base_uri": "https://localhost:8080/"
        },
        "id": "i19niA0C4NWq",
        "outputId": "0c4681c4-ca55-415c-dff2-e4cc53ef431e"
      },
      "execution_count": null,
      "outputs": [
        {
          "output_type": "execute_result",
          "data": {
            "text/plain": [
              "array([0.01370778, 0.01827705, 0.02741557, 0.05483114])"
            ]
          },
          "metadata": {},
          "execution_count": 28
        }
      ]
    },
    {
      "cell_type": "code",
      "source": [
        "np.sin(0.785)#radians"
      ],
      "metadata": {
        "colab": {
          "base_uri": "https://localhost:8080/"
        },
        "id": "w8VQmFmp5S6c",
        "outputId": "b2b56335-d0b7-4c4f-81a1-924d09ce52cb"
      },
      "execution_count": null,
      "outputs": [
        {
          "output_type": "execute_result",
          "data": {
            "text/plain": [
              "0.706825181105366"
            ]
          },
          "metadata": {},
          "execution_count": 30
        }
      ]
    },
    {
      "cell_type": "code",
      "source": [
        "np.sin(1)#radians"
      ],
      "metadata": {
        "colab": {
          "base_uri": "https://localhost:8080/"
        },
        "id": "WKS3r41x5moO",
        "outputId": "208138c3-978f-41a6-9765-6b8df79a88ce"
      },
      "execution_count": null,
      "outputs": [
        {
          "output_type": "execute_result",
          "data": {
            "text/plain": [
              "0.8414709848078965"
            ]
          },
          "metadata": {},
          "execution_count": 31
        }
      ]
    },
    {
      "cell_type": "code",
      "source": [
        "np.tan(1)#radians"
      ],
      "metadata": {
        "colab": {
          "base_uri": "https://localhost:8080/"
        },
        "id": "-Zm9Bb2d6JhR",
        "outputId": "90fa8956-c588-4f04-d6ec-ea45a3189b1e"
      },
      "execution_count": null,
      "outputs": [
        {
          "output_type": "execute_result",
          "data": {
            "text/plain": [
              "1.5574077246549023"
            ]
          },
          "metadata": {},
          "execution_count": 32
        }
      ]
    },
    {
      "cell_type": "code",
      "source": [
        "np.cos(1)#radians"
      ],
      "metadata": {
        "colab": {
          "base_uri": "https://localhost:8080/"
        },
        "id": "cFWA893p6MOn",
        "outputId": "a39147c2-91aa-4192-a57f-1266081d2ac7"
      },
      "execution_count": null,
      "outputs": [
        {
          "output_type": "execute_result",
          "data": {
            "text/plain": [
              "0.5403023058681398"
            ]
          },
          "metadata": {},
          "execution_count": 33
        }
      ]
    },
    {
      "cell_type": "markdown",
      "source": [
        "statistics"
      ],
      "metadata": {
        "id": "KptU6G2z6Zhl"
      }
    },
    {
      "cell_type": "code",
      "source": [
        "a=np.array([23,45,67,89,21,34])"
      ],
      "metadata": {
        "id": "5JCmM7ko6caa"
      },
      "execution_count": null,
      "outputs": []
    },
    {
      "cell_type": "code",
      "source": [
        "np.mean(a)#average value"
      ],
      "metadata": {
        "colab": {
          "base_uri": "https://localhost:8080/"
        },
        "id": "gjHcSF8l6l6o",
        "outputId": "5b6fbb3f-0c59-4583-810c-6ec9c92f1a56"
      },
      "execution_count": null,
      "outputs": [
        {
          "output_type": "execute_result",
          "data": {
            "text/plain": [
              "46.5"
            ]
          },
          "metadata": {},
          "execution_count": 35
        }
      ]
    },
    {
      "cell_type": "code",
      "source": [
        "np.median(a)#middle value"
      ],
      "metadata": {
        "colab": {
          "base_uri": "https://localhost:8080/"
        },
        "id": "DXQiwVrV6-uo",
        "outputId": "0d0445f5-bf0b-43b7-df57-18e8eaf0f1c8"
      },
      "execution_count": null,
      "outputs": [
        {
          "output_type": "execute_result",
          "data": {
            "text/plain": [
              "39.5"
            ]
          },
          "metadata": {},
          "execution_count": 36
        }
      ]
    },
    {
      "cell_type": "code",
      "source": [
        "np.var(a)#variance value"
      ],
      "metadata": {
        "colab": {
          "base_uri": "https://localhost:8080/"
        },
        "id": "h9i31BIk7BN5",
        "outputId": "0025fae0-058c-4c28-eeda-b8e1c75c8f93"
      },
      "execution_count": null,
      "outputs": [
        {
          "output_type": "execute_result",
          "data": {
            "text/plain": [
              "597.9166666666666"
            ]
          },
          "metadata": {},
          "execution_count": 37
        }
      ]
    },
    {
      "cell_type": "code",
      "source": [
        "np.std(a)#standard deviation"
      ],
      "metadata": {
        "colab": {
          "base_uri": "https://localhost:8080/"
        },
        "id": "P9MEwQFL7imL",
        "outputId": "90d838b1-c762-4b91-c127-42b577f2cf43"
      },
      "execution_count": null,
      "outputs": [
        {
          "output_type": "execute_result",
          "data": {
            "text/plain": [
              "24.452334585202017"
            ]
          },
          "metadata": {},
          "execution_count": 39
        }
      ]
    },
    {
      "cell_type": "code",
      "source": [
        "a=np.arange(1,5).reshape(2,2)\n",
        "print(a)"
      ],
      "metadata": {
        "colab": {
          "base_uri": "https://localhost:8080/"
        },
        "id": "uIKHxg4k9aLj",
        "outputId": "fe66c089-d69a-411f-8a6b-34c415cb7dc4"
      },
      "execution_count": null,
      "outputs": [
        {
          "output_type": "stream",
          "name": "stdout",
          "text": [
            "[[1 2]\n",
            " [3 4]]\n"
          ]
        }
      ]
    },
    {
      "cell_type": "code",
      "source": [
        "np.linalg.inv(a)"
      ],
      "metadata": {
        "colab": {
          "base_uri": "https://localhost:8080/"
        },
        "id": "dMw_x1MD-6DU",
        "outputId": "914a2e48-5708-4567-8b08-ee75930cf1cb"
      },
      "execution_count": null,
      "outputs": [
        {
          "output_type": "execute_result",
          "data": {
            "text/plain": [
              "array([[-2. ,  1. ],\n",
              "       [ 1.5, -0.5]])"
            ]
          },
          "metadata": {},
          "execution_count": 41
        }
      ]
    },
    {
      "cell_type": "code",
      "source": [
        "a=np.arange(1,25).reshape(6,4)\n",
        "print(a)"
      ],
      "metadata": {
        "colab": {
          "base_uri": "https://localhost:8080/"
        },
        "id": "gsA6km86AALW",
        "outputId": "ba9c947f-f3fe-44fe-abcc-f7311a20b439"
      },
      "execution_count": null,
      "outputs": [
        {
          "output_type": "stream",
          "name": "stdout",
          "text": [
            "[[ 1  2  3  4]\n",
            " [ 5  6  7  8]\n",
            " [ 9 10 11 12]\n",
            " [13 14 15 16]\n",
            " [17 18 19 20]\n",
            " [21 22 23 24]]\n"
          ]
        }
      ]
    },
    {
      "cell_type": "code",
      "source": [
        "a=np.arange(1,25).reshape(6,4)\n",
        "print(np.argmax(a))"
      ],
      "metadata": {
        "colab": {
          "base_uri": "https://localhost:8080/"
        },
        "id": "D6P5Sclc_ig_",
        "outputId": "483897e8-9adf-4348-d5d6-c26487576b51"
      },
      "execution_count": null,
      "outputs": [
        {
          "output_type": "stream",
          "name": "stdout",
          "text": [
            "23\n"
          ]
        }
      ]
    },
    {
      "cell_type": "code",
      "source": [
        "a=np.floor(10*np.random.rand(24)).reshape(6,4)\n",
        "print(a)"
      ],
      "metadata": {
        "colab": {
          "base_uri": "https://localhost:8080/"
        },
        "id": "pyPhAc2UAGWZ",
        "outputId": "9de58c1c-6502-4c56-c2e4-1f9d2e09333c"
      },
      "execution_count": null,
      "outputs": [
        {
          "output_type": "stream",
          "name": "stdout",
          "text": [
            "[[9. 6. 7. 6.]\n",
            " [1. 8. 1. 4.]\n",
            " [4. 9. 6. 3.]\n",
            " [7. 9. 5. 6.]\n",
            " [0. 7. 9. 7.]\n",
            " [0. 4. 4. 8.]]\n"
          ]
        }
      ]
    },
    {
      "cell_type": "code",
      "source": [
        "print(np.argmax(a))"
      ],
      "metadata": {
        "colab": {
          "base_uri": "https://localhost:8080/"
        },
        "id": "nXCtn2iyA72P",
        "outputId": "5eb0b568-ca72-4bc1-d2ca-863d3fce5c42"
      },
      "execution_count": null,
      "outputs": [
        {
          "output_type": "stream",
          "name": "stdout",
          "text": [
            "0\n"
          ]
        }
      ]
    },
    {
      "cell_type": "code",
      "source": [
        "a=10*np.random.rand(24).reshape(6,4)\n",
        "print(a)"
      ],
      "metadata": {
        "colab": {
          "base_uri": "https://localhost:8080/"
        },
        "id": "q1fKxIDpBOrX",
        "outputId": "5947ac38-7b40-4038-d5a7-18650aee5202"
      },
      "execution_count": null,
      "outputs": [
        {
          "output_type": "stream",
          "name": "stdout",
          "text": [
            "[[2.48892259 1.90205182 5.67578972 0.62909418]\n",
            " [9.77331565 7.91400694 5.96542492 1.65470247]\n",
            " [7.80709722 9.93641993 2.23788703 3.03516988]\n",
            " [0.29871216 1.87542791 0.94556903 0.66906544]\n",
            " [0.12736899 2.69224847 3.69662471 5.46144578]\n",
            " [7.68864377 5.12457381 3.51861943 7.74662111]]\n"
          ]
        }
      ]
    },
    {
      "cell_type": "code",
      "source": [
        "print(np.argmax(a))"
      ],
      "metadata": {
        "colab": {
          "base_uri": "https://localhost:8080/"
        },
        "id": "XuKK0qkMBW5g",
        "outputId": "6c5127a9-89b8-469c-9925-07147cedd96d"
      },
      "execution_count": null,
      "outputs": [
        {
          "output_type": "stream",
          "name": "stdout",
          "text": [
            "9\n"
          ]
        }
      ]
    },
    {
      "cell_type": "code",
      "source": [
        "print(np.argmax(a,axis=1))"
      ],
      "metadata": {
        "colab": {
          "base_uri": "https://localhost:8080/"
        },
        "id": "_CI3i9i8CA0Y",
        "outputId": "270a2c0d-235d-4ca9-b01c-e0b072401671"
      },
      "execution_count": null,
      "outputs": [
        {
          "output_type": "stream",
          "name": "stdout",
          "text": [
            "[2 0 1 1 3 3]\n"
          ]
        }
      ]
    },
    {
      "cell_type": "code",
      "source": [
        "print(np.argmin(a))"
      ],
      "metadata": {
        "colab": {
          "base_uri": "https://localhost:8080/"
        },
        "id": "4vyT80K4EPcT",
        "outputId": "45d9770a-a445-4805-f0c4-a46f547d441d"
      },
      "execution_count": null,
      "outputs": [
        {
          "output_type": "stream",
          "name": "stdout",
          "text": [
            "16\n"
          ]
        }
      ]
    },
    {
      "cell_type": "code",
      "source": [
        "print(np.argmin(a,axis=1))"
      ],
      "metadata": {
        "colab": {
          "base_uri": "https://localhost:8080/"
        },
        "id": "m-MnpSLjEkzh",
        "outputId": "b9130244-f6a3-44cb-8ac9-6bf4c5b6e8ed"
      },
      "execution_count": null,
      "outputs": [
        {
          "output_type": "stream",
          "name": "stdout",
          "text": [
            "[3 3 2 0 0 2]\n"
          ]
        }
      ]
    },
    {
      "cell_type": "code",
      "source": [
        "print(np.argmin(a,axis=0))"
      ],
      "metadata": {
        "colab": {
          "base_uri": "https://localhost:8080/"
        },
        "id": "OQK_xLYJEo_Q",
        "outputId": "03ed90c8-6f9f-4c8e-da9b-2fe5959a1148"
      },
      "execution_count": null,
      "outputs": [
        {
          "output_type": "stream",
          "name": "stdout",
          "text": [
            "[4 3 3 0]\n"
          ]
        }
      ]
    },
    {
      "cell_type": "code",
      "source": [
        "a=np.array([34,56,7,17,88,91])\n",
        "print(np.where(a%2==0))"
      ],
      "metadata": {
        "colab": {
          "base_uri": "https://localhost:8080/"
        },
        "id": "kwtSmtnQFJjU",
        "outputId": "02abd608-5fcb-49db-992e-a4376b04ecf6"
      },
      "execution_count": null,
      "outputs": [
        {
          "output_type": "stream",
          "name": "stdout",
          "text": [
            "(array([0, 1, 4]),)\n"
          ]
        }
      ]
    },
    {
      "cell_type": "code",
      "source": [
        "a=np.array([34,56,7,17,88,91])\n",
        "print(np.where(a%2==1))"
      ],
      "metadata": {
        "colab": {
          "base_uri": "https://localhost:8080/"
        },
        "id": "IPiwWSh9F_l4",
        "outputId": "aec5ad6a-24a3-4f1a-f58d-267f5bfb2ae2"
      },
      "execution_count": null,
      "outputs": [
        {
          "output_type": "stream",
          "name": "stdout",
          "text": [
            "(array([2, 3, 5]),)\n"
          ]
        }
      ]
    },
    {
      "cell_type": "code",
      "source": [
        "a=np.array([24,14,7,17,54,60])\n",
        "print(np.where(a%6==0))"
      ],
      "metadata": {
        "colab": {
          "base_uri": "https://localhost:8080/"
        },
        "id": "ZBWMqiGCGUZ4",
        "outputId": "6e3fe702-e9b7-4e4c-85e7-e3d86d5fd940"
      },
      "execution_count": null,
      "outputs": [
        {
          "output_type": "stream",
          "name": "stdout",
          "text": [
            "(array([0, 4, 5]),)\n"
          ]
        }
      ]
    },
    {
      "cell_type": "code",
      "source": [
        "a=np.array([6,7,8,9,10])#it is used to search and sorted the element\n",
        "b=np.searchsorted(a,10)\n",
        "print(b)"
      ],
      "metadata": {
        "colab": {
          "base_uri": "https://localhost:8080/"
        },
        "id": "PkTBtw-DHdm8",
        "outputId": "2c0927b8-3c85-457c-a6bd-334755907ff2"
      },
      "execution_count": null,
      "outputs": [
        {
          "output_type": "stream",
          "name": "stdout",
          "text": [
            "4\n"
          ]
        }
      ]
    },
    {
      "cell_type": "code",
      "source": [
        "a=np.array(['zoro','luffy','nami'])\n",
        "print(np.sort(a))"
      ],
      "metadata": {
        "colab": {
          "base_uri": "https://localhost:8080/"
        },
        "id": "0PdgrC54IQ5v",
        "outputId": "7ac05f16-3856-4b95-8cd7-642649787e9e"
      },
      "execution_count": null,
      "outputs": [
        {
          "output_type": "stream",
          "name": "stdout",
          "text": [
            "['luffy' 'nami' 'zoro']\n"
          ]
        }
      ]
    },
    {
      "cell_type": "code",
      "source": [
        "a=np.array(['true','false','true'])\n",
        "print(np.sort(a))"
      ],
      "metadata": {
        "colab": {
          "base_uri": "https://localhost:8080/"
        },
        "id": "cH0CQC9NJYtI",
        "outputId": "3366da3e-8301-420e-83ba-74584c7230ec"
      },
      "execution_count": null,
      "outputs": [
        {
          "output_type": "stream",
          "name": "stdout",
          "text": [
            "['false' 'true' 'true']\n"
          ]
        }
      ]
    },
    {
      "cell_type": "code",
      "source": [
        "a=np.array([[3,2,4],[5,0,1]])\n",
        "print(np.sort(a)a=np.array([34,56,7,17,88,91])\n",
        "print(np.where(a%2==1)))"
      ],
      "metadata": {
        "colab": {
          "base_uri": "https://localhost:8080/"
        },
        "id": "aX4_fbQ1Je4A",
        "outputId": "bf56a0e0-b34f-4fa2-c640-a24b04941bd3"
      },
      "execution_count": null,
      "outputs": [
        {
          "output_type": "stream",
          "name": "stdout",
          "text": [
            "[[2 3 4]\n",
            " [0 1 5]]\n"
          ]
        }
      ]
    },
    {
      "cell_type": "markdown",
      "source": [
        "filtering"
      ],
      "metadata": {
        "id": "75158kFoMff6"
      }
    },
    {
      "cell_type": "code",
      "source": [
        "a=np.array([34,56,7,17,88,91])\n",
        "flit=np.where(a%2==0)\n",
        "print(flit)"
      ],
      "metadata": {
        "colab": {
          "base_uri": "https://localhost:8080/"
        },
        "id": "Mhp2AUxoL9NE",
        "outputId": "c7e544d5-ca74-4902-8ef5-78714d4039f6"
      },
      "execution_count": null,
      "outputs": [
        {
          "output_type": "stream",
          "name": "stdout",
          "text": [
            "(array([0, 1, 4]),)\n"
          ]
        }
      ]
    },
    {
      "cell_type": "code",
      "source": [
        "a[flit]"
      ],
      "metadata": {
        "colab": {
          "base_uri": "https://localhost:8080/"
        },
        "id": "6Ey-PC72MMSK",
        "outputId": "460d8692-6d4f-4e60-9629-c710dad92567"
      },
      "execution_count": null,
      "outputs": [
        {
          "output_type": "execute_result",
          "data": {
            "text/plain": [
              "array([34, 56, 88])"
            ]
          },
          "metadata": {},
          "execution_count": 66
        }
      ]
    },
    {
      "cell_type": "markdown",
      "source": [
        "iterating through two arays"
      ],
      "metadata": {
        "id": "0ykrguFiOf6r"
      }
    },
    {
      "cell_type": "code",
      "source": [
        "a=np.array(['zoro','luffy','nami'])\n",
        "b=np.array(['r','m','t'])\n",
        "for i,j in zip(b,a):\n",
        "  print(i,\".\",j)"
      ],
      "metadata": {
        "colab": {
          "base_uri": "https://localhost:8080/"
        },
        "id": "rr_b4V81NNZ_",
        "outputId": "acd27bac-fd44-42a2-a24f-1d462cf0a3c1"
      },
      "execution_count": null,
      "outputs": [
        {
          "output_type": "stream",
          "name": "stdout",
          "text": [
            "r . zoro\n",
            "m . luffy\n",
            "t . nami\n"
          ]
        }
      ]
    },
    {
      "cell_type": "code",
      "source": [
        "a=np.array(['zoro','luffy','sanji'])\n",
        "b=np.array(['nova','d','foot'])\n",
        "c=np.array(['rono','monkey','black'])\n",
        "for i,j,k in zip(c,b,a):\n",
        "  print(i,\".\",j,\".\",k)"
      ],
      "metadata": {
        "colab": {
          "base_uri": "https://localhost:8080/"
        },
        "id": "ZLgAZ-dDO2sf",
        "outputId": "f3899b4f-fcb3-436a-dc11-41f15915a075"
      },
      "execution_count": null,
      "outputs": [
        {
          "output_type": "stream",
          "name": "stdout",
          "text": [
            "rono . nova . zoro\n",
            "monkey . d . luffy\n",
            "black . foot . sanji\n"
          ]
        }
      ]
    },
    {
      "cell_type": "code",
      "source": [
        "a=np.array([34,56,7,17,88,91])\n",
        "b=np.array([24,14,7,17,54,60])\n",
        "n=np.multiply(a,b)\n",
        "print(n)"
      ],
      "metadata": {
        "colab": {
          "base_uri": "https://localhost:8080/"
        },
        "id": "1bCmt6TFO8P0",
        "outputId": "402b1511-47ac-4322-c062-16ec18fcf226"
      },
      "execution_count": null,
      "outputs": [
        {
          "output_type": "stream",
          "name": "stdout",
          "text": [
            "[ 816  784   49  289 4752 5460]\n"
          ]
        }
      ]
    },
    {
      "cell_type": "code",
      "source": [
        "a=np.array([34,56,7,17,88,91])\n",
        "b=np.array([24,14,7,17,54,60])\n",
        "n=np.divide(a,b)\n",
        "print(n)"
      ],
      "metadata": {
        "colab": {
          "base_uri": "https://localhost:8080/"
        },
        "id": "jWISejJDRY07",
        "outputId": "7fb61471-abab-4d64-a205-79eabce86b8e"
      },
      "execution_count": null,
      "outputs": [
        {
          "output_type": "stream",
          "name": "stdout",
          "text": [
            "[1.41666667 4.         1.         1.         1.62962963 1.51666667]\n"
          ]
        }
      ]
    },
    {
      "cell_type": "code",
      "source": [
        "a=np.array([34,56,7,17,88,91])\n",
        "b=np.array([24,14,7,17,54,60])\n",
        "n=np.mod(a,b)\n",
        "print(n)"
      ],
      "metadata": {
        "colab": {
          "base_uri": "https://localhost:8080/"
        },
        "id": "qp7agMGPRb67",
        "outputId": "bb7a1811-8494-4ae1-b5a9-c6c105a56c6e"
      },
      "execution_count": null,
      "outputs": [
        {
          "output_type": "stream",
          "name": "stdout",
          "text": [
            "[10  0  0  0 34 31]\n"
          ]
        }
      ]
    },
    {
      "cell_type": "code",
      "source": [
        "a=np.array([34,56,7,17,88,91])\n",
        "b=np.array([24,14,7,17,54,60])\n",
        "n=np.divmod(a,b)\n",
        "print(n)"
      ],
      "metadata": {
        "colab": {
          "base_uri": "https://localhost:8080/"
        },
        "id": "BHvRChFcRzIY",
        "outputId": "1eb726af-25bc-4248-8bfe-8993348c37cd"
      },
      "execution_count": null,
      "outputs": [
        {
          "output_type": "stream",
          "name": "stdout",
          "text": [
            "(array([1, 4, 1, 1, 1, 1]), array([10,  0,  0,  0, 34, 31]))\n"
          ]
        }
      ]
    },
    {
      "cell_type": "markdown",
      "source": [
        "logarithims"
      ],
      "metadata": {
        "id": "euYBZ3FSSYPA"
      }
    },
    {
      "cell_type": "code",
      "source": [
        "a=np.arange(1,10)\n",
        "print(a)\n",
        "print(np.log2(a))"
      ],
      "metadata": {
        "colab": {
          "base_uri": "https://localhost:8080/"
        },
        "id": "ks8aJL7vSXDk",
        "outputId": "a98690db-3e8b-463f-c2b7-5369bf66cbde"
      },
      "execution_count": null,
      "outputs": [
        {
          "output_type": "stream",
          "name": "stdout",
          "text": [
            "[1 2 3 4 5 6 7 8 9]\n",
            "[0.         1.         1.5849625  2.         2.32192809 2.5849625\n",
            " 2.80735492 3.         3.169925  ]\n"
          ]
        }
      ]
    },
    {
      "cell_type": "code",
      "source": [
        "a=1.2\n",
        "print(np.log(a))"
      ],
      "metadata": {
        "colab": {
          "base_uri": "https://localhost:8080/"
        },
        "id": "fISUThMWTXy6",
        "outputId": "ab442a3b-82c0-43e7-9193-97320507f006"
      },
      "execution_count": null,
      "outputs": [
        {
          "output_type": "stream",
          "name": "stdout",
          "text": [
            "0.1823215567939546\n"
          ]
        }
      ]
    },
    {
      "cell_type": "code",
      "source": [
        "a=1.2\n",
        "print(np.log2(a))"
      ],
      "metadata": {
        "colab": {
          "base_uri": "https://localhost:8080/"
        },
        "id": "v1MPaSE9TP7a",
        "outputId": "cdc15728-def5-4c78-8075-87df249a1645"
      },
      "execution_count": null,
      "outputs": [
        {
          "output_type": "stream",
          "name": "stdout",
          "text": [
            "0.2630344058337938\n"
          ]
        }
      ]
    },
    {
      "cell_type": "code",
      "source": [
        "a=1.2\n",
        "print(np.log10(a))"
      ],
      "metadata": {
        "colab": {
          "base_uri": "https://localhost:8080/"
        },
        "id": "sbDXhLgeTbo5",
        "outputId": "a79c8fd0-86e1-4b1c-ace0-058f2a515d1c"
      },
      "execution_count": null,
      "outputs": [
        {
          "output_type": "stream",
          "name": "stdout",
          "text": [
            "0.07918124604762482\n"
          ]
        }
      ]
    },
    {
      "cell_type": "code",
      "source": [
        "a=np.array([1,2,3,4,5,6,7])\n",
        "print(np.log(a))"
      ],
      "metadata": {
        "colab": {
          "base_uri": "https://localhost:8080/"
        },
        "id": "WPJaOixGTu95",
        "outputId": "02c868c7-eb95-4a04-9a3a-5f2b78aa85ad"
      },
      "execution_count": null,
      "outputs": [
        {
          "output_type": "stream",
          "name": "stdout",
          "text": [
            "[0.         0.69314718 1.09861229 1.38629436 1.60943791 1.79175947\n",
            " 1.94591015]\n"
          ]
        }
      ]
    },
    {
      "cell_type": "markdown",
      "source": [
        "other mathematical function"
      ],
      "metadata": {
        "id": "cMlhmGdlUq56"
      }
    },
    {
      "cell_type": "code",
      "source": [
        "a=np.array([1,2,3,4,5,6,7])\n",
        "b=np.cumprod(a)\n",
        "print(b)"
      ],
      "metadata": {
        "colab": {
          "base_uri": "https://localhost:8080/"
        },
        "id": "YO1uQNe2UilV",
        "outputId": "0e7dcdf7-6aae-44e6-f0a4-56348b758cac"
      },
      "execution_count": null,
      "outputs": [
        {
          "output_type": "stream",
          "name": "stdout",
          "text": [
            "[   1    2    6   24  120  720 5040]\n"
          ]
        }
      ]
    },
    {
      "cell_type": "code",
      "source": [
        "a=np.array([1,2,3,4,5,6,7])\n",
        "b=np.cumsum(a)\n",
        "print(b)"
      ],
      "metadata": {
        "colab": {
          "base_uri": "https://localhost:8080/"
        },
        "id": "iV2CiBhqWg7q",
        "outputId": "3211a8b3-ce9e-4651-b87a-e26c31cec5c7"
      },
      "execution_count": null,
      "outputs": [
        {
          "output_type": "stream",
          "name": "stdout",
          "text": [
            "[ 1  3  6 10 15 21 28]\n"
          ]
        }
      ]
    },
    {
      "cell_type": "code",
      "source": [
        "a=np.array([1,2,3,4,5,6,7])\n",
        "b=np.diff(a)\n",
        "print(b)"
      ],
      "metadata": {
        "colab": {
          "base_uri": "https://localhost:8080/"
        },
        "id": "xjWB9alLUw0b",
        "outputId": "c35b47bf-8ca9-470b-d043-b3f7ae25d5ac"
      },
      "execution_count": null,
      "outputs": [
        {
          "output_type": "stream",
          "name": "stdout",
          "text": [
            "[1 1 1 1 1 1]\n"
          ]
        }
      ]
    },
    {
      "cell_type": "code",
      "source": [
        "n1=455\n",
        "n2=665\n",
        "a=np.lcm(n1,n2)\n",
        "print(a)"
      ],
      "metadata": {
        "colab": {
          "base_uri": "https://localhost:8080/"
        },
        "id": "bPwX-akSU4tK",
        "outputId": "e0621b9e-8256-4314-a35d-a289342fce85"
      },
      "execution_count": null,
      "outputs": [
        {
          "output_type": "stream",
          "name": "stdout",
          "text": [
            "8645\n"
          ]
        }
      ]
    },
    {
      "cell_type": "code",
      "source": [
        "n1=455\n",
        "n2=665\n",
        "a=np.gcd(n1,n2)\n",
        "print(a)"
      ],
      "metadata": {
        "colab": {
          "base_uri": "https://localhost:8080/"
        },
        "id": "QoHLS6bhWEwq",
        "outputId": "70f5c267-19da-48e5-c3fa-693bd8c9fb0a"
      },
      "execution_count": null,
      "outputs": [
        {
          "output_type": "stream",
          "name": "stdout",
          "text": [
            "35\n"
          ]
        }
      ]
    },
    {
      "cell_type": "code",
      "source": [
        "a=np.array([34,56,7])\n",
        "b=np.gcd.reduce(a)#take multiple inputs gives single inputs\n",
        "print(b)"
      ],
      "metadata": {
        "colab": {
          "base_uri": "https://localhost:8080/"
        },
        "id": "9xWOG4biWkgj",
        "outputId": "e1975110-ec50-497e-db24-580095ac0766"
      },
      "execution_count": null,
      "outputs": [
        {
          "output_type": "stream",
          "name": "stdout",
          "text": [
            "1\n"
          ]
        }
      ]
    },
    {
      "cell_type": "code",
      "source": [
        "a=np.array([34,56,7])\n",
        "b=np.lcm.reduce(a)#take multiple inputs gives single inputs\n",
        "print(b)"
      ],
      "metadata": {
        "colab": {
          "base_uri": "https://localhost:8080/"
        },
        "id": "5h-kthgVXL1P",
        "outputId": "a7a6d9a7-485b-4a51-81fe-2d9e99e4acdc"
      },
      "execution_count": null,
      "outputs": [
        {
          "output_type": "stream",
          "name": "stdout",
          "text": [
            "952\n"
          ]
        }
      ]
    }
  ]
}