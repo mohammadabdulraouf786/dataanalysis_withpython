{
 "cells": [
  {
   "cell_type": "code",
   "execution_count": 1,
   "id": "a939dfdc",
   "metadata": {},
   "outputs": [
    {
     "name": "stdout",
     "output_type": "stream",
     "text": [
      "Requirement already satisfied: Selenium in c:\\users\\mdabd\\anaconda3\\lib\\site-packages (4.17.2)\n",
      "Requirement already satisfied: urllib3[socks]<3,>=1.26 in c:\\users\\mdabd\\anaconda3\\lib\\site-packages (from Selenium) (1.26.16)\n",
      "Requirement already satisfied: trio~=0.17 in c:\\users\\mdabd\\anaconda3\\lib\\site-packages (from Selenium) (0.24.0)\n",
      "Requirement already satisfied: trio-websocket~=0.9 in c:\\users\\mdabd\\anaconda3\\lib\\site-packages (from Selenium) (0.11.1)\n",
      "Requirement already satisfied: certifi>=2021.10.8 in c:\\users\\mdabd\\anaconda3\\lib\\site-packages (from Selenium) (2023.7.22)\n",
      "Requirement already satisfied: typing_extensions>=4.9.0 in c:\\users\\mdabd\\anaconda3\\lib\\site-packages (from Selenium) (4.9.0)\n",
      "Requirement already satisfied: attrs>=20.1.0 in c:\\users\\mdabd\\anaconda3\\lib\\site-packages (from trio~=0.17->Selenium) (22.1.0)\n",
      "Requirement already satisfied: sortedcontainers in c:\\users\\mdabd\\anaconda3\\lib\\site-packages (from trio~=0.17->Selenium) (2.4.0)\n",
      "Requirement already satisfied: idna in c:\\users\\mdabd\\anaconda3\\lib\\site-packages (from trio~=0.17->Selenium) (3.4)\n",
      "Requirement already satisfied: outcome in c:\\users\\mdabd\\anaconda3\\lib\\site-packages (from trio~=0.17->Selenium) (1.3.0.post0)\n",
      "Requirement already satisfied: sniffio>=1.3.0 in c:\\users\\mdabd\\anaconda3\\lib\\site-packages (from trio~=0.17->Selenium) (1.3.0)\n",
      "Requirement already satisfied: cffi>=1.14 in c:\\users\\mdabd\\anaconda3\\lib\\site-packages (from trio~=0.17->Selenium) (1.15.1)\n",
      "Requirement already satisfied: wsproto>=0.14 in c:\\users\\mdabd\\anaconda3\\lib\\site-packages (from trio-websocket~=0.9->Selenium) (1.2.0)\n",
      "Requirement already satisfied: PySocks!=1.5.7,<2.0,>=1.5.6 in c:\\users\\mdabd\\anaconda3\\lib\\site-packages (from urllib3[socks]<3,>=1.26->Selenium) (1.7.1)\n",
      "Requirement already satisfied: pycparser in c:\\users\\mdabd\\anaconda3\\lib\\site-packages (from cffi>=1.14->trio~=0.17->Selenium) (2.21)\n",
      "Requirement already satisfied: h11<1,>=0.9.0 in c:\\users\\mdabd\\anaconda3\\lib\\site-packages (from wsproto>=0.14->trio-websocket~=0.9->Selenium) (0.14.0)\n"
     ]
    }
   ],
   "source": [
    "!pip install Selenium"
   ]
  },
  {
   "cell_type": "code",
   "execution_count": 2,
   "id": "cfcf97e4",
   "metadata": {},
   "outputs": [
    {
     "name": "stdout",
     "output_type": "stream",
     "text": [
      "Requirement already satisfied: webdriver_manager in c:\\users\\mdabd\\anaconda3\\lib\\site-packages (4.0.1)\n",
      "Requirement already satisfied: requests in c:\\users\\mdabd\\anaconda3\\lib\\site-packages (from webdriver_manager) (2.31.0)\n",
      "Requirement already satisfied: python-dotenv in c:\\users\\mdabd\\anaconda3\\lib\\site-packages (from webdriver_manager) (0.21.0)\n",
      "Requirement already satisfied: packaging in c:\\users\\mdabd\\anaconda3\\lib\\site-packages (from webdriver_manager) (23.1)\n",
      "Requirement already satisfied: charset-normalizer<4,>=2 in c:\\users\\mdabd\\anaconda3\\lib\\site-packages (from requests->webdriver_manager) (2.0.4)\n",
      "Requirement already satisfied: idna<4,>=2.5 in c:\\users\\mdabd\\anaconda3\\lib\\site-packages (from requests->webdriver_manager) (3.4)\n",
      "Requirement already satisfied: urllib3<3,>=1.21.1 in c:\\users\\mdabd\\anaconda3\\lib\\site-packages (from requests->webdriver_manager) (1.26.16)\n",
      "Requirement already satisfied: certifi>=2017.4.17 in c:\\users\\mdabd\\anaconda3\\lib\\site-packages (from requests->webdriver_manager) (2023.7.22)\n"
     ]
    }
   ],
   "source": [
    "!pip install webdriver_manager"
   ]
  },
  {
   "cell_type": "code",
   "execution_count": 200,
   "id": "ba305c5b",
   "metadata": {},
   "outputs": [],
   "source": [
    "import selenium as se"
   ]
  },
  {
   "cell_type": "code",
   "execution_count": 201,
   "id": "ad36736f",
   "metadata": {},
   "outputs": [],
   "source": [
    "import pandas as pd"
   ]
  },
  {
   "cell_type": "code",
   "execution_count": 202,
   "id": "38a8664a",
   "metadata": {},
   "outputs": [],
   "source": [
    "import webdriver_manager as wd"
   ]
  },
  {
   "cell_type": "code",
   "execution_count": 241,
   "id": "316bcd7e",
   "metadata": {},
   "outputs": [],
   "source": [
    "import selenium as se\n",
    "import webdriver_manager as wd \n",
    "from selenium import webdriver\n",
    "from webdriver_manager.chrome import ChromeDriverManager\n",
    "from selenium.webdriver.common.by import By\n",
    "from selenium.webdriver.common.keys import Keys"
   ]
  },
  {
   "cell_type": "code",
   "execution_count": 242,
   "id": "b296ec8c",
   "metadata": {},
   "outputs": [],
   "source": [
    "options = webdriver.ChromeOptions()\n",
    "options.add_argument('--same options')"
   ]
  },
  {
   "cell_type": "code",
   "execution_count": 243,
   "id": "89d354a7",
   "metadata": {},
   "outputs": [],
   "source": [
    "driver=webdriver.Chrome(options=options)"
   ]
  },
  {
   "cell_type": "code",
   "execution_count": 244,
   "id": "2e1e2b82",
   "metadata": {
    "scrolled": true
   },
   "outputs": [
    {
     "name": "stdout",
     "output_type": "stream",
     "text": [
      "chrome\n"
     ]
    }
   ],
   "source": [
    "browser_name=options.to_capabilities()[\"browserName\"]\n",
    "print(browser_name)"
   ]
  },
  {
   "cell_type": "code",
   "execution_count": 245,
   "id": "dea69a71",
   "metadata": {},
   "outputs": [],
   "source": [
    "driver.get('https://www.amazon.in')"
   ]
  },
  {
   "cell_type": "code",
   "execution_count": 248,
   "id": "33d70d51",
   "metadata": {},
   "outputs": [],
   "source": [
    "search=driver.find_element(By.ID,\"twotabsearchtextbox\")"
   ]
  },
  {
   "cell_type": "code",
   "execution_count": 249,
   "id": "d53a6eb2",
   "metadata": {},
   "outputs": [],
   "source": [
    "search.send_keys(\"dell laptops\")"
   ]
  },
  {
   "cell_type": "code",
   "execution_count": 250,
   "id": "e328c402",
   "metadata": {},
   "outputs": [],
   "source": [
    "driver.find_element(By.ID,\"nav-search-submit-button\").click()"
   ]
  },
  {
   "cell_type": "code",
   "execution_count": 275,
   "id": "7c69ceaf",
   "metadata": {},
   "outputs": [],
   "source": [
    "driver.find_element(By.XPATH,\"//span[text()='ASUS']\").click()"
   ]
  },
  {
   "cell_type": "code",
   "execution_count": 276,
   "id": "f30e01bc",
   "metadata": {},
   "outputs": [
    {
     "name": "stdout",
     "output_type": "stream",
     "text": [
      "['ASUS VivoBook 15 (2021), 15.6-inch (39.62 cm) HD, Dual Core Intel Celeron N4020, Thin and Light Laptop (4GB RAM/256GB SSD/Integrated Graphics/Windows 11 Home/Transparent Silver/1.8 Kg), X515MA-BR011W', 'ASUS Vivobook 16 (2023), Intel Core i9-13900H 13th Gen, 16\" (40.64 cm) FHD+, Thin & Light Laptop (16GB/512GB SSD/Intel Iris Xe/Win 11/Office 2021/Backlit KB/Fingerprint/Silver/1.88 kg) X1605VA-MB946WS', 'ASUS Vivobook 15, Intel Core i3-1220P 12th Gen, 15.6\" (39.62 cm) FHD, Thin and Laptop (8GB/512GB SSD/Integrated Graphics/Windows 11/Office 2021/Fingerprint/Blue/1.7 kg), X1502ZA-EJ385WS', 'ASUS Vivobook Go 14 (2023), AMD Ryzen 3 7320U, 14-inch (35.56 cm) FHD, Thin & Light Laptop (8GB/512GB SSD/Windows 11/Office 2021/Alexa Built-in/Grey Green/1.38 kg), E1404FA-NK323WS', 'ASUS Vivobook 15 OLED (2023), AMD Ryzen 5 7530U, 15.6\" (39.62 cm) FHD OLED, Thin and Light Laptop (16GB/512GB SSD/Windows 11/Office 2021/Backlit KB/FP Sensor/Black/1.7 Kg), M1505YA-LK541WS', 'ASUS TUF Gaming F15, 15.6\"(39.62 cms) FHD 144Hz, Intel Core i7-11800H 11th Gen, 4GB NVIDIA GeForce RTX 3050 Ti, Gaming Laptop (16GB/1TB SSD/Win 11/MSO/90WHrs Battery/Black/2.30 Kg), FX506HE-HN385WS', 'ASUS Vivobook 16X, AMD Ryzen 7 5800HS, 16\" (40.64 cm) WUXGA, Thin & Light Laptop (16GB/512GB SSD/Integrated Graphics/Windows 11/Office 2021/Backlit/Fingerprint/Silver/1.88 kg), M1603QA-MB742WS', 'ASUS TUF Gaming F15, 15.6\"(39.62 cms) FHD 144Hz, Intel Core i5-11400H 11th Gen, RTX 3050 4GB Graphics, Gaming Laptop (8GB/512GB SSD/90WHrs Battery/Windows 11/Black/2.3 kg), FX506HC-HN089W', 'ASUS Vivobook 15, IntelCore i3-1215U 12th Gen, 15.6\" (39.62 cm) FHD, Thin and Light Laptop (8 GB RAM/512GB SSD/Win11/Office 2021/Backlit/42WHr/1.70/Blue), X1504ZA-NJ326WS', 'ASUS Vivobook Pro 15, AMD Ryzen 7 5800H, 15.6\"(39.6 cm) HD, Thin & Light Laptop (16GB/512GB SSD/4GB NVIDIA GeForce RTX 3050/Windows 11/Office 2021/Backlit/Fingerprint/Blue/1.80 kg), M6500QC-HN741WS', 'ASUS TUF Gaming F15, Intel Core i5-11400H 11th Gen, 15.6-inch (39.62 cm) FHD 144Hz, Gaming Laptop (16GB/512GB SSD/4GB NVIDIA GeForce RTX 2050/Win 11/ RGB Backlit KB/Black/2.30 kg), FX506HF-HN025W', 'ASUS ROG Strix G17 (2022), 17.3-inch (43.94 cms) FHD 144Hz, AMD Ryzen 7-6800HS, RTX 3050 4GB Graphics, Gaming Laptop (16GB/512GB SSD/Windows 11/Gray/2.5 Kg),G713RC-HX109WS', 'ASUS Zenbook 14X OLED, Intel Core i5-12500H 12th Gen, 14\" (35.56 cm) 2.8K 90Hz OLED, Thin and Light Laptop (16GB/512GB/Win11/Office 2021/Fingerprint/Grey/1.4 kg), UX5401ZA-KM541WS', 'ASUS Vivobook Go 15 OLED (2023), AMD Ryzen 5 7520U, 15.6\" (39.62 cms) FHD OLED, Thin and Light Laptop (16GB/512GB SSD/Windows 11/Office 2021/Backlit KB/Black/1.63 kg), E1504FA-LK545WS', 'ASUS Vivobook S 14 Flip (2023), AMD Ryzen 5 7530U, 14\" (35.56 cm) FHD+ Touch, Thin & Light Laptop (8GB/512GB SSD/Windows 11/Office 2021/Alexa Built-in/Backlit KB/Silver/1.50 kg), TN3402YAB-LZ522WS', 'ASUS Zenbook 14 (2023), AMD Ryzen 7 7730U, 14\" (35.56 cm) 2.5K, Thin & Light Laptop (16GB/1TB SSD/Windows 11/Office 2021/Alexa Built-in/Backlit KB/FP Sensor/Jade Black/1.35 kg), UM3402YA-KP751WS', 'ASUS Vivobook Pro 15 OLED, AMD Ryzen 7 5800H, 15.6\" (39.6 cm) OLED, Thin & Light Laptop (16GB/1TB SSD/4GB NVIDIA GeForce RTX 3050/Windows 11/Office 2021/Fingerprint/Silver/1.65 kg), M3500QC-L1712WS', 'ASUS Creator Series Vivobook 16X 2023, Intel Core i5-13500H 13th Gen, 16.0-inch FHD+ 120Hz, Laptop (16GB/512GB SSD/NVIDIA Geforce RTX 3050 4GB/Win11/FP/Black/1.80 kg),K3605VC-MB541WS', 'ASUS Vivobook 15, Intel Core i5-12500H 12th Gen, 15.6\" (39.62 cm) FHD, Thin and Light Laptop (8 GB RAM/512GB SSD/Win11/Office 2021/Backlit/42WHr/Silver/1.70 kg), X1502ZA-EJ524WS', 'ASUS Vivobook 15 (2023), Intel Core I5-13500H 13Th Gen, 15.6\" (39.62 Cms) Fhd, Thin and Light Laptop (16Gb/512Gb Ssd/Intel Iris X?/Win 11/Office 2021/Backlit Kb/Blue/1.7 Kg), X1502Va-Nj541Ws', 'ASUS Vivobook Go 15 (2023), AMD Ryzen 5 7520U, 15.6\" (39.62 cm) FHD, Thin & Light Laptop (16GB/512GB SSD/Windows 11/Office 2021/Alexa Built-in/Green Grey/1.63 kg), E1504FA-NJ543WS', 'ASUS Vivobook 15, Intel Core i3-1220P 12th Gen, 15.6\" (39.62 cm) FHD, Thin and Laptop (8GB/512GB SSD/Integrated Graphics/Windows 11/Office 2021/Alexa Built-in/FP Sensor/Blue/1.7 kg), X1502ZA-EJ381WS', 'ASUS Vivobook 15 (2023), Intel Core i3-1315U 13th Gen, 15.6\" (39.62 cms) FHD, Thin and Light Laptop (8GB/512GB SSD/Windows 11/Office 2021/Fingerprint/Silver/1.7 kg), X1504VA-NJ324WS', 'ASUS Vivobook 15, Intel Core i7-12650H 12th Gen, 15.6\" (39.62 cm) FHD, Thin and Light Laptop (16GB/512GB/Win11/Office 2021/Blue/1.7 kg), X1502ZA-EJ741WS', 'ASUS Vivobook S15 OLED 2022, 15.6\" 39.62 cm FHD OLED, Intel Core EVO i5-12500H 12th Gen, Thin and Light Laptop (16GB/512GB SSD/Iris Xe Graphics/Windows 11/Office 2021/Black/1.8 kg), S3502ZA-L502WS', 'ASUS Vivobook Go 14 (2023), AMD Ryzen 3 7320U, 14-inch (35.56 cm) FHD, Thin & Light Laptop (8GB/512GB SSD/Windows 11/Office 2021/Alexa Built-in/Mixed Black/1.38 kg), E1404FA-NK327WS', 'ASUS Vivobook 15 OLED (2023), AMD Ryzen 5 7530U, 15.6\" (39.62 cm) FHD OLED, Thin and Light Laptop (16GB/512GB SSD/Windows 11/Office 2021/Backlit KB/FP Sensor/Black/1.7 Kg), M1505YA-LK541WS', 'ASUS Vivobook Go 15 (2023), AMD Ryzen 5 7520U, 15.6\" (39.62 cm) FHD, Thin & Light Laptop (16GB/512GB SSD/Windows 11/Office 2021/Alexa Built-in/Mixed Black/1.63 kg), E1504FA-NJ542WS', 'ASUS Zenbook 14 (2023), AMD Ryzen 5 7530U, 14\" (35.56 cm) 2.5K, Thin & Light Laptop (16GB/512GB SSD/Windows 11/Office 2021/Alexa Built-in/Backlit KB/FP Sensor/Jade Black/1.35 kg), UM3402YA-KP541WS', 'ASUS Vivobook Go 15 (OLED) 2023, AMD Ryzen 5 7520U, 15.6\"(39.62 cm) FHD OLED, Thin & Light Laptop (16GB/512GB SSD/Windows 11/Office 2021/Alexa Built-in/Backlit KB/Green Grey/1.63 kg), E1504FA-LK543WS']\n"
     ]
    }
   ],
   "source": [
    "names = driver.find_elements(By.XPATH,\".//span[@class='a-size-medium a-color-base a-text-normal']\")\n",
    "for i in names:\n",
    "    lnames=[i.text for i in names]\n",
    "print(lnames)\n"
   ]
  },
  {
   "cell_type": "code",
   "execution_count": 277,
   "id": "250e6eef",
   "metadata": {},
   "outputs": [
    {
     "name": "stdout",
     "output_type": "stream",
     "text": [
      "30\n"
     ]
    }
   ],
   "source": [
    "print(len(names))"
   ]
  },
  {
   "cell_type": "code",
   "execution_count": 278,
   "id": "a89eb18f",
   "metadata": {},
   "outputs": [
    {
     "name": "stdout",
     "output_type": "stream",
     "text": [
      "['19,990', '74,990', '39,990', '33,200', '51,990', '73,990', '57,990', '54,990', '37,990', '68,990', '52,990', '76,990', '67,990', '56,326', '54,990', '82,990', '75,990', '75,990', '48,990', '61,990', '51,532', '37,990', '42,990', '59,990', '66,890', '33,990', '51,990', '51,990', '67,990', '56,990']\n",
      "30\n"
     ]
    }
   ],
   "source": [
    "prize = driver.find_elements(By.XPATH,\".//span[@class='a-price-whole']\")\n",
    "for i in prize:\n",
    "    lprize=[i.text for i in prize]\n",
    "print(lprize)\n",
    "print(len(prize))"
   ]
  },
  {
   "cell_type": "code",
   "execution_count": 255,
   "id": "2386f8b0",
   "metadata": {},
   "outputs": [
    {
     "name": "stdout",
     "output_type": "stream",
     "text": [
      "30\n"
     ]
    }
   ],
   "source": [
    "prize.pop(0)\n",
    "prize.pop(0)\n",
    "prize.pop(0)\n",
    "print(len(prize))"
   ]
  },
  {
   "cell_type": "code",
   "execution_count": 279,
   "id": "c87d2f67",
   "metadata": {},
   "outputs": [
    {
     "name": "stdout",
     "output_type": "stream",
     "text": [
      "['1,307', '113', '5', '47', '39', '199', '1,115', '163', '22', '38', '213', '14', '63', '26', '5', '3', '52', '40', '11', '70', '75', '597', '86', '429', '63', '46', '39', '75', '2', '23']\n"
     ]
    }
   ],
   "source": [
    "reviews = driver.find_elements(By.XPATH,\".//span[@class='a-size-base s-underline-text']\")\n",
    "for i in reviews:\n",
    "    lreviews=[i.text for i in reviews]\n",
    "print(lreviews)"
   ]
  },
  {
   "cell_type": "code",
   "execution_count": 280,
   "id": "4e3fa20c",
   "metadata": {},
   "outputs": [
    {
     "name": "stdout",
     "output_type": "stream",
     "text": [
      "30\n"
     ]
    }
   ],
   "source": [
    "print(len(reviews))"
   ]
  },
  {
   "cell_type": "code",
   "execution_count": 295,
   "id": "85895047",
   "metadata": {},
   "outputs": [
    {
     "name": "stdout",
     "output_type": "stream",
     "text": [
      "Empty DataFrame\n",
      "Columns: [lnames, lprize, lreviews]\n",
      "Index: []\n"
     ]
    },
    {
     "data": {
      "text/html": [
       "<div>\n",
       "<style scoped>\n",
       "    .dataframe tbody tr th:only-of-type {\n",
       "        vertical-align: middle;\n",
       "    }\n",
       "\n",
       "    .dataframe tbody tr th {\n",
       "        vertical-align: top;\n",
       "    }\n",
       "\n",
       "    .dataframe thead th {\n",
       "        text-align: right;\n",
       "    }\n",
       "</style>\n",
       "<table border=\"1\" class=\"dataframe\">\n",
       "  <thead>\n",
       "    <tr style=\"text-align: right;\">\n",
       "      <th></th>\n",
       "      <th>lnames</th>\n",
       "      <th>lprize</th>\n",
       "      <th>lreviews</th>\n",
       "    </tr>\n",
       "  </thead>\n",
       "  <tbody>\n",
       "  </tbody>\n",
       "</table>\n",
       "</div>"
      ],
      "text/plain": [
       "Empty DataFrame\n",
       "Columns: [lnames, lprize, lreviews]\n",
       "Index: []"
      ]
     },
     "execution_count": 295,
     "metadata": {},
     "output_type": "execute_result"
    }
   ],
   "source": [
    "df=pd.DataFrame(columns=['lnames','lprize','lreviews'])\n",
    "print(df)\n",
    "df"
   ]
  },
  {
   "cell_type": "code",
   "execution_count": 296,
   "id": "15f523c9",
   "metadata": {},
   "outputs": [],
   "source": [
    "df['lnames']=lnames\n",
    "df['lprize']=lprize\n",
    "df['lreviews']=lreviews"
   ]
  },
  {
   "cell_type": "code",
   "execution_count": 297,
   "id": "1175e409",
   "metadata": {},
   "outputs": [
    {
     "data": {
      "text/html": [
       "<div>\n",
       "<style scoped>\n",
       "    .dataframe tbody tr th:only-of-type {\n",
       "        vertical-align: middle;\n",
       "    }\n",
       "\n",
       "    .dataframe tbody tr th {\n",
       "        vertical-align: top;\n",
       "    }\n",
       "\n",
       "    .dataframe thead th {\n",
       "        text-align: right;\n",
       "    }\n",
       "</style>\n",
       "<table border=\"1\" class=\"dataframe\">\n",
       "  <thead>\n",
       "    <tr style=\"text-align: right;\">\n",
       "      <th></th>\n",
       "      <th>lnames</th>\n",
       "      <th>lprize</th>\n",
       "      <th>lreviews</th>\n",
       "    </tr>\n",
       "  </thead>\n",
       "  <tbody>\n",
       "    <tr>\n",
       "      <th>0</th>\n",
       "      <td>ASUS VivoBook 15 (2021), 15.6-inch (39.62 cm) ...</td>\n",
       "      <td>19,990</td>\n",
       "      <td>1,307</td>\n",
       "    </tr>\n",
       "    <tr>\n",
       "      <th>1</th>\n",
       "      <td>ASUS Vivobook 16 (2023), Intel Core i9-13900H ...</td>\n",
       "      <td>74,990</td>\n",
       "      <td>113</td>\n",
       "    </tr>\n",
       "    <tr>\n",
       "      <th>2</th>\n",
       "      <td>ASUS Vivobook 15, Intel Core i3-1220P 12th Gen...</td>\n",
       "      <td>39,990</td>\n",
       "      <td>5</td>\n",
       "    </tr>\n",
       "    <tr>\n",
       "      <th>3</th>\n",
       "      <td>ASUS Vivobook Go 14 (2023), AMD Ryzen 3 7320U,...</td>\n",
       "      <td>33,200</td>\n",
       "      <td>47</td>\n",
       "    </tr>\n",
       "    <tr>\n",
       "      <th>4</th>\n",
       "      <td>ASUS Vivobook 15 OLED (2023), AMD Ryzen 5 7530...</td>\n",
       "      <td>51,990</td>\n",
       "      <td>39</td>\n",
       "    </tr>\n",
       "    <tr>\n",
       "      <th>5</th>\n",
       "      <td>ASUS TUF Gaming F15, 15.6\"(39.62 cms) FHD 144H...</td>\n",
       "      <td>73,990</td>\n",
       "      <td>199</td>\n",
       "    </tr>\n",
       "    <tr>\n",
       "      <th>6</th>\n",
       "      <td>ASUS Vivobook 16X, AMD Ryzen 7 5800HS, 16\" (40...</td>\n",
       "      <td>57,990</td>\n",
       "      <td>1,115</td>\n",
       "    </tr>\n",
       "    <tr>\n",
       "      <th>7</th>\n",
       "      <td>ASUS TUF Gaming F15, 15.6\"(39.62 cms) FHD 144H...</td>\n",
       "      <td>54,990</td>\n",
       "      <td>163</td>\n",
       "    </tr>\n",
       "    <tr>\n",
       "      <th>8</th>\n",
       "      <td>ASUS Vivobook 15, IntelCore i3-1215U 12th Gen,...</td>\n",
       "      <td>37,990</td>\n",
       "      <td>22</td>\n",
       "    </tr>\n",
       "    <tr>\n",
       "      <th>9</th>\n",
       "      <td>ASUS Vivobook Pro 15, AMD Ryzen 7 5800H, 15.6\"...</td>\n",
       "      <td>68,990</td>\n",
       "      <td>38</td>\n",
       "    </tr>\n",
       "    <tr>\n",
       "      <th>10</th>\n",
       "      <td>ASUS TUF Gaming F15, Intel Core i5-11400H 11th...</td>\n",
       "      <td>52,990</td>\n",
       "      <td>213</td>\n",
       "    </tr>\n",
       "    <tr>\n",
       "      <th>11</th>\n",
       "      <td>ASUS ROG Strix G17 (2022), 17.3-inch (43.94 cm...</td>\n",
       "      <td>76,990</td>\n",
       "      <td>14</td>\n",
       "    </tr>\n",
       "    <tr>\n",
       "      <th>12</th>\n",
       "      <td>ASUS Zenbook 14X OLED, Intel Core i5-12500H 12...</td>\n",
       "      <td>67,990</td>\n",
       "      <td>63</td>\n",
       "    </tr>\n",
       "    <tr>\n",
       "      <th>13</th>\n",
       "      <td>ASUS Vivobook Go 15 OLED (2023), AMD Ryzen 5 7...</td>\n",
       "      <td>56,326</td>\n",
       "      <td>26</td>\n",
       "    </tr>\n",
       "    <tr>\n",
       "      <th>14</th>\n",
       "      <td>ASUS Vivobook S 14 Flip (2023), AMD Ryzen 5 75...</td>\n",
       "      <td>54,990</td>\n",
       "      <td>5</td>\n",
       "    </tr>\n",
       "    <tr>\n",
       "      <th>15</th>\n",
       "      <td>ASUS Zenbook 14 (2023), AMD Ryzen 7 7730U, 14\"...</td>\n",
       "      <td>82,990</td>\n",
       "      <td>3</td>\n",
       "    </tr>\n",
       "    <tr>\n",
       "      <th>16</th>\n",
       "      <td>ASUS Vivobook Pro 15 OLED, AMD Ryzen 7 5800H, ...</td>\n",
       "      <td>75,990</td>\n",
       "      <td>52</td>\n",
       "    </tr>\n",
       "    <tr>\n",
       "      <th>17</th>\n",
       "      <td>ASUS Creator Series Vivobook 16X 2023, Intel C...</td>\n",
       "      <td>75,990</td>\n",
       "      <td>40</td>\n",
       "    </tr>\n",
       "    <tr>\n",
       "      <th>18</th>\n",
       "      <td>ASUS Vivobook 15, Intel Core i5-12500H 12th Ge...</td>\n",
       "      <td>48,990</td>\n",
       "      <td>11</td>\n",
       "    </tr>\n",
       "    <tr>\n",
       "      <th>19</th>\n",
       "      <td>ASUS Vivobook 15 (2023), Intel Core I5-13500H ...</td>\n",
       "      <td>61,990</td>\n",
       "      <td>70</td>\n",
       "    </tr>\n",
       "    <tr>\n",
       "      <th>20</th>\n",
       "      <td>ASUS Vivobook Go 15 (2023), AMD Ryzen 5 7520U,...</td>\n",
       "      <td>51,532</td>\n",
       "      <td>75</td>\n",
       "    </tr>\n",
       "    <tr>\n",
       "      <th>21</th>\n",
       "      <td>ASUS Vivobook 15, Intel Core i3-1220P 12th Gen...</td>\n",
       "      <td>37,990</td>\n",
       "      <td>597</td>\n",
       "    </tr>\n",
       "    <tr>\n",
       "      <th>22</th>\n",
       "      <td>ASUS Vivobook 15 (2023), Intel Core i3-1315U 1...</td>\n",
       "      <td>42,990</td>\n",
       "      <td>86</td>\n",
       "    </tr>\n",
       "    <tr>\n",
       "      <th>23</th>\n",
       "      <td>ASUS Vivobook 15, Intel Core i7-12650H 12th Ge...</td>\n",
       "      <td>59,990</td>\n",
       "      <td>429</td>\n",
       "    </tr>\n",
       "    <tr>\n",
       "      <th>24</th>\n",
       "      <td>ASUS Vivobook S15 OLED 2022, 15.6\" 39.62 cm FH...</td>\n",
       "      <td>66,890</td>\n",
       "      <td>63</td>\n",
       "    </tr>\n",
       "    <tr>\n",
       "      <th>25</th>\n",
       "      <td>ASUS Vivobook Go 14 (2023), AMD Ryzen 3 7320U,...</td>\n",
       "      <td>33,990</td>\n",
       "      <td>46</td>\n",
       "    </tr>\n",
       "    <tr>\n",
       "      <th>26</th>\n",
       "      <td>ASUS Vivobook 15 OLED (2023), AMD Ryzen 5 7530...</td>\n",
       "      <td>51,990</td>\n",
       "      <td>39</td>\n",
       "    </tr>\n",
       "    <tr>\n",
       "      <th>27</th>\n",
       "      <td>ASUS Vivobook Go 15 (2023), AMD Ryzen 5 7520U,...</td>\n",
       "      <td>51,990</td>\n",
       "      <td>75</td>\n",
       "    </tr>\n",
       "    <tr>\n",
       "      <th>28</th>\n",
       "      <td>ASUS Zenbook 14 (2023), AMD Ryzen 5 7530U, 14\"...</td>\n",
       "      <td>67,990</td>\n",
       "      <td>2</td>\n",
       "    </tr>\n",
       "    <tr>\n",
       "      <th>29</th>\n",
       "      <td>ASUS Vivobook Go 15 (OLED) 2023, AMD Ryzen 5 7...</td>\n",
       "      <td>56,990</td>\n",
       "      <td>23</td>\n",
       "    </tr>\n",
       "  </tbody>\n",
       "</table>\n",
       "</div>"
      ],
      "text/plain": [
       "                                               lnames  lprize lreviews\n",
       "0   ASUS VivoBook 15 (2021), 15.6-inch (39.62 cm) ...  19,990    1,307\n",
       "1   ASUS Vivobook 16 (2023), Intel Core i9-13900H ...  74,990      113\n",
       "2   ASUS Vivobook 15, Intel Core i3-1220P 12th Gen...  39,990        5\n",
       "3   ASUS Vivobook Go 14 (2023), AMD Ryzen 3 7320U,...  33,200       47\n",
       "4   ASUS Vivobook 15 OLED (2023), AMD Ryzen 5 7530...  51,990       39\n",
       "5   ASUS TUF Gaming F15, 15.6\"(39.62 cms) FHD 144H...  73,990      199\n",
       "6   ASUS Vivobook 16X, AMD Ryzen 7 5800HS, 16\" (40...  57,990    1,115\n",
       "7   ASUS TUF Gaming F15, 15.6\"(39.62 cms) FHD 144H...  54,990      163\n",
       "8   ASUS Vivobook 15, IntelCore i3-1215U 12th Gen,...  37,990       22\n",
       "9   ASUS Vivobook Pro 15, AMD Ryzen 7 5800H, 15.6\"...  68,990       38\n",
       "10  ASUS TUF Gaming F15, Intel Core i5-11400H 11th...  52,990      213\n",
       "11  ASUS ROG Strix G17 (2022), 17.3-inch (43.94 cm...  76,990       14\n",
       "12  ASUS Zenbook 14X OLED, Intel Core i5-12500H 12...  67,990       63\n",
       "13  ASUS Vivobook Go 15 OLED (2023), AMD Ryzen 5 7...  56,326       26\n",
       "14  ASUS Vivobook S 14 Flip (2023), AMD Ryzen 5 75...  54,990        5\n",
       "15  ASUS Zenbook 14 (2023), AMD Ryzen 7 7730U, 14\"...  82,990        3\n",
       "16  ASUS Vivobook Pro 15 OLED, AMD Ryzen 7 5800H, ...  75,990       52\n",
       "17  ASUS Creator Series Vivobook 16X 2023, Intel C...  75,990       40\n",
       "18  ASUS Vivobook 15, Intel Core i5-12500H 12th Ge...  48,990       11\n",
       "19  ASUS Vivobook 15 (2023), Intel Core I5-13500H ...  61,990       70\n",
       "20  ASUS Vivobook Go 15 (2023), AMD Ryzen 5 7520U,...  51,532       75\n",
       "21  ASUS Vivobook 15, Intel Core i3-1220P 12th Gen...  37,990      597\n",
       "22  ASUS Vivobook 15 (2023), Intel Core i3-1315U 1...  42,990       86\n",
       "23  ASUS Vivobook 15, Intel Core i7-12650H 12th Ge...  59,990      429\n",
       "24  ASUS Vivobook S15 OLED 2022, 15.6\" 39.62 cm FH...  66,890       63\n",
       "25  ASUS Vivobook Go 14 (2023), AMD Ryzen 3 7320U,...  33,990       46\n",
       "26  ASUS Vivobook 15 OLED (2023), AMD Ryzen 5 7530...  51,990       39\n",
       "27  ASUS Vivobook Go 15 (2023), AMD Ryzen 5 7520U,...  51,990       75\n",
       "28  ASUS Zenbook 14 (2023), AMD Ryzen 5 7530U, 14\"...  67,990        2\n",
       "29  ASUS Vivobook Go 15 (OLED) 2023, AMD Ryzen 5 7...  56,990       23"
      ]
     },
     "execution_count": 297,
     "metadata": {},
     "output_type": "execute_result"
    }
   ],
   "source": [
    "df"
   ]
  },
  {
   "cell_type": "code",
   "execution_count": 298,
   "id": "3a6edb93",
   "metadata": {},
   "outputs": [],
   "source": [
    "df.to_csv(\"ASUS_data.csv\")"
   ]
  },
  {
   "cell_type": "code",
   "execution_count": null,
   "id": "3752a5cf",
   "metadata": {},
   "outputs": [],
   "source": []
  }
 ],
 "metadata": {
  "kernelspec": {
   "display_name": "Python 3 (ipykernel)",
   "language": "python",
   "name": "python3"
  },
  "language_info": {
   "codemirror_mode": {
    "name": "ipython",
    "version": 3
   },
   "file_extension": ".py",
   "mimetype": "text/x-python",
   "name": "python",
   "nbconvert_exporter": "python",
   "pygments_lexer": "ipython3",
   "version": "3.11.5"
  }
 },
 "nbformat": 4,
 "nbformat_minor": 5
}
