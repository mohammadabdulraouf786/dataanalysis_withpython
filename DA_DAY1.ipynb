{
  "nbformat": 4,
  "nbformat_minor": 0,
  "metadata": {
    "colab": {
      "provenance": [],
      "authorship_tag": "ABX9TyNYImjdq3EdUWIRqKOCsznJ",
      "include_colab_link": true
    },
    "kernelspec": {
      "name": "python3",
      "display_name": "Python 3"
    },
    "language_info": {
      "name": "python"
    }
  },
  "cells": [
    {
      "cell_type": "markdown",
      "metadata": {
        "id": "view-in-github",
        "colab_type": "text"
      },
      "source": [
        "<a href=\"https://colab.research.google.com/github/mohammadabdulraouf786/dataanalysis_withpython/blob/main/DA_DAY1.ipynb\" target=\"_parent\"><img src=\"https://colab.research.google.com/assets/colab-badge.svg\" alt=\"Open In Colab\"/></a>"
      ]
    },
    {
      "cell_type": "code",
      "execution_count": null,
      "metadata": {
        "colab": {
          "base_uri": "https://localhost:8080/"
        },
        "id": "bIJg9us0qsZc",
        "outputId": "a468fcbf-5fd0-4af2-9dc0-17c87b82333b"
      },
      "outputs": [
        {
          "output_type": "stream",
          "name": "stdout",
          "text": [
            "Iam 5 years old\n"
          ]
        }
      ],
      "source": [
        "a=5\n",
        "print(\"Iam\",a,\"years old\")"
      ]
    },
    {
      "cell_type": "markdown",
      "source": [
        "Operators"
      ],
      "metadata": {
        "id": "CgBt9RANrnyw"
      }
    },
    {
      "cell_type": "code",
      "source": [
        "#ARTHIMETIC\n",
        "a=10\n",
        "b=20\n",
        "print(a+b)"
      ],
      "metadata": {
        "colab": {
          "base_uri": "https://localhost:8080/"
        },
        "id": "ePwVTZK2rtzX",
        "outputId": "2d36ecdf-af29-4d4d-a680-1d8060b2ef0d"
      },
      "execution_count": null,
      "outputs": [
        {
          "output_type": "stream",
          "name": "stdout",
          "text": [
            "30\n"
          ]
        }
      ]
    },
    {
      "cell_type": "code",
      "source": [
        "#POWER\n",
        "print(2**5)"
      ],
      "metadata": {
        "colab": {
          "base_uri": "https://localhost:8080/"
        },
        "id": "KXUo4Ffrr1kE",
        "outputId": "2a23a8c9-64cb-4186-b888-16ce4b7d9656"
      },
      "execution_count": null,
      "outputs": [
        {
          "output_type": "stream",
          "name": "stdout",
          "text": [
            "32\n"
          ]
        }
      ]
    },
    {
      "cell_type": "code",
      "source": [
        "#FLOOR DIVISION\n",
        "print(25//2)"
      ],
      "metadata": {
        "colab": {
          "base_uri": "https://localhost:8080/"
        },
        "id": "EjhqTabEsQAn",
        "outputId": "e9ab6edd-f1a5-48cd-b26c-7e1320d5e4b9"
      },
      "execution_count": null,
      "outputs": [
        {
          "output_type": "stream",
          "name": "stdout",
          "text": [
            "12\n"
          ]
        }
      ]
    },
    {
      "cell_type": "code",
      "source": [
        "#RELATION\n",
        "a=10\n",
        "b=10\n",
        "print(a==b)\n",
        "print(a>b)\n",
        "print(a<b)\n",
        "print(a>=b)\n",
        "print(a<=b)\n",
        "print(a!=b)"
      ],
      "metadata": {
        "colab": {
          "base_uri": "https://localhost:8080/"
        },
        "id": "nCLPI1yrsm2U",
        "outputId": "d8a092c6-c01d-4bc6-b3be-bd5bfd95d2fc"
      },
      "execution_count": null,
      "outputs": [
        {
          "output_type": "stream",
          "name": "stdout",
          "text": [
            "True\n",
            "False\n",
            "False\n",
            "True\n",
            "True\n",
            "False\n"
          ]
        }
      ]
    },
    {
      "cell_type": "code",
      "source": [
        "#logical\n",
        "a=9\n",
        "b=25\n",
        "print((a>b)and(a<b))"
      ],
      "metadata": {
        "colab": {
          "base_uri": "https://localhost:8080/"
        },
        "id": "rNQvfpfktYK3",
        "outputId": "3a9e0cdd-c000-46bb-8374-ac34ef96761a"
      },
      "execution_count": null,
      "outputs": [
        {
          "output_type": "stream",
          "name": "stdout",
          "text": [
            "False\n"
          ]
        }
      ]
    },
    {
      "cell_type": "code",
      "source": [
        "print((a>b)or(a<b))"
      ],
      "metadata": {
        "colab": {
          "base_uri": "https://localhost:8080/"
        },
        "id": "xoiGiN1ztqkR",
        "outputId": "a6659d19-b7ac-493d-e72c-597190ff02f3"
      },
      "execution_count": null,
      "outputs": [
        {
          "output_type": "stream",
          "name": "stdout",
          "text": [
            "True\n"
          ]
        }
      ]
    },
    {
      "cell_type": "code",
      "source": [
        "#membership\n",
        "a=\"one piece\"\n",
        "print(\"o\"in a)\n",
        "print(\"a\"not in a)"
      ],
      "metadata": {
        "colab": {
          "base_uri": "https://localhost:8080/"
        },
        "id": "s47WbHTKt2Av",
        "outputId": "65544b2b-5f97-47dd-c52e-0c0c3eef3cc9"
      },
      "execution_count": null,
      "outputs": [
        {
          "output_type": "stream",
          "name": "stdout",
          "text": [
            "True\n",
            "True\n"
          ]
        }
      ]
    },
    {
      "cell_type": "markdown",
      "source": [
        "control flow"
      ],
      "metadata": {
        "id": "sMXhURB0uw5M"
      }
    },
    {
      "cell_type": "code",
      "source": [
        "#write program to get a number frome the user and check the number is positive or negative\n",
        "a=int(input(\"enter a value:\"))\n",
        "if(a<0):\n",
        "  print(\"negative number\")\n",
        "if(a>0):\n",
        "  print(\"positive number\")\n",
        "if(a==0):\n",
        "  print(\"either positive nor negative\")"
      ],
      "metadata": {
        "colab": {
          "base_uri": "https://localhost:8080/"
        },
        "id": "mspCSfOfu4Au",
        "outputId": "10e0f7ee-bcda-4d1f-a41b-41d159a5d042"
      },
      "execution_count": null,
      "outputs": [
        {
          "output_type": "stream",
          "name": "stdout",
          "text": [
            "enter a value:0\n",
            "either positive nor negative\n"
          ]
        }
      ]
    },
    {
      "cell_type": "code",
      "source": [
        "#elseif ladder\n",
        "a=int(input(\"enter a value:\"))\n",
        "if(a<0):\n",
        "  print(\"negative number\")\n",
        "elif(a>0):\n",
        "  print(\"positive number\")\n",
        "else:\n",
        "  print(\"either positive nor negative\")"
      ],
      "metadata": {
        "colab": {
          "base_uri": "https://localhost:8080/"
        },
        "id": "HvTu60uEyT7J",
        "outputId": "53868d4a-3006-4ff5-bbd0-ddcbb0612084"
      },
      "execution_count": null,
      "outputs": [
        {
          "output_type": "stream",
          "name": "stdout",
          "text": [
            "enter a value:0\n",
            "either positive nor negative\n"
          ]
        }
      ]
    },
    {
      "cell_type": "markdown",
      "source": [
        "lopping statements"
      ],
      "metadata": {
        "id": "Z0aAnQXl0lwC"
      }
    },
    {
      "cell_type": "code",
      "source": [
        "#print 6 table\n",
        "a=6\n",
        "for i in range(1,11,1):\n",
        "  n=a*i\n",
        "  print(n)"
      ],
      "metadata": {
        "colab": {
          "base_uri": "https://localhost:8080/"
        },
        "id": "0pNo7FpQ0oV1",
        "outputId": "aab1c097-1944-4c80-cdcb-332441017748"
      },
      "execution_count": null,
      "outputs": [
        {
          "output_type": "stream",
          "name": "stdout",
          "text": [
            "6\n",
            "12\n",
            "18\n",
            "24\n",
            "30\n",
            "36\n",
            "42\n",
            "48\n",
            "54\n",
            "60\n"
          ]
        }
      ]
    },
    {
      "cell_type": "code",
      "source": [
        "#print any table\n",
        "a=int(input(\"enter any value\"))\n",
        "for i in range(1,11,1):\n",
        "  n=a*i\n",
        "  print(n)"
      ],
      "metadata": {
        "colab": {
          "base_uri": "https://localhost:8080/"
        },
        "id": "--RLphhS1wAr",
        "outputId": "70537d96-6863-4d0d-feb9-562ad8183253"
      },
      "execution_count": null,
      "outputs": [
        {
          "output_type": "stream",
          "name": "stdout",
          "text": [
            "enter any value5\n",
            "5\n",
            "10\n",
            "15\n",
            "20\n",
            "25\n",
            "30\n",
            "35\n",
            "40\n",
            "45\n",
            "50\n"
          ]
        }
      ]
    },
    {
      "cell_type": "code",
      "source": [
        "#type casting\n",
        "a=25.5#float\n",
        "b=6#int\n",
        "print(a*b)#implicit type casting"
      ],
      "metadata": {
        "colab": {
          "base_uri": "https://localhost:8080/"
        },
        "id": "YpUGJsSj2c7E",
        "outputId": "88bade96-5394-44c9-ee4a-f37bf335aa52"
      },
      "execution_count": null,
      "outputs": [
        {
          "output_type": "stream",
          "name": "stdout",
          "text": [
            "153.0\n"
          ]
        }
      ]
    },
    {
      "cell_type": "code",
      "source": [
        "#type casting\n",
        "a=25.5#float\n",
        "b=6#int\n",
        "print(int(a*b))#explicit type casting"
      ],
      "metadata": {
        "colab": {
          "base_uri": "https://localhost:8080/"
        },
        "id": "3zkQpNLY3sbG",
        "outputId": "565b9ecc-9a94-4890-b10c-2571fb3fab30"
      },
      "execution_count": null,
      "outputs": [
        {
          "output_type": "stream",
          "name": "stdout",
          "text": [
            "153\n"
          ]
        }
      ]
    },
    {
      "cell_type": "code",
      "source": [
        "a=\"45\"\n",
        "a=int(a)\n",
        "print(type(a))"
      ],
      "metadata": {
        "colab": {
          "base_uri": "https://localhost:8080/"
        },
        "id": "d7tZ2jyg4Exl",
        "outputId": "eb473491-798c-4bd6-b359-ed5d369b36e1"
      },
      "execution_count": null,
      "outputs": [
        {
          "output_type": "stream",
          "name": "stdout",
          "text": [
            "<class 'int'>\n"
          ]
        }
      ]
    },
    {
      "cell_type": "markdown",
      "source": [
        "data slicing"
      ],
      "metadata": {
        "id": "48nXihDS4PFq"
      }
    },
    {
      "cell_type": "code",
      "source": [
        "a=\"python is easy\"\n",
        "print(a[0:6])"
      ],
      "metadata": {
        "colab": {
          "base_uri": "https://localhost:8080/"
        },
        "id": "SlaFdGpV4Q0g",
        "outputId": "9b6bb13a-7b6c-456f-c962-fbaebeccd9b9"
      },
      "execution_count": null,
      "outputs": [
        {
          "output_type": "stream",
          "name": "stdout",
          "text": [
            "python\n"
          ]
        }
      ]
    },
    {
      "cell_type": "code",
      "source": [
        "print(a[::-1])"
      ],
      "metadata": {
        "colab": {
          "base_uri": "https://localhost:8080/"
        },
        "id": "mbn1LvSw5blF",
        "outputId": "3c506858-5888-4d2e-a373-c4e7eb7c95d9"
      },
      "execution_count": null,
      "outputs": [
        {
          "output_type": "stream",
          "name": "stdout",
          "text": [
            "ysae si nohtyp\n"
          ]
        }
      ]
    },
    {
      "cell_type": "code",
      "source": [
        "print(a[::2])"
      ],
      "metadata": {
        "colab": {
          "base_uri": "https://localhost:8080/"
        },
        "id": "oKAkdweO5zXG",
        "outputId": "47eddc96-b891-4db0-9cce-3ebbbe83b662"
      },
      "execution_count": null,
      "outputs": [
        {
          "output_type": "stream",
          "name": "stdout",
          "text": [
            "pto ses\n"
          ]
        }
      ]
    },
    {
      "cell_type": "code",
      "source": [
        "#while loop\n",
        "a=int(input(\"enter a value\"))\n",
        "i=1\n",
        "while(i<=10):\n",
        "  print(a*i)\n",
        "  i=i+1"
      ],
      "metadata": {
        "colab": {
          "base_uri": "https://localhost:8080/"
        },
        "id": "uwC32BLZ6H8j",
        "outputId": "83b5c0d5-39f2-41e5-d4f8-5bd472ea7ebf"
      },
      "execution_count": null,
      "outputs": [
        {
          "output_type": "stream",
          "name": "stdout",
          "text": [
            "enter a value2\n",
            "2\n",
            "4\n",
            "6\n",
            "8\n",
            "10\n",
            "12\n",
            "14\n",
            "16\n",
            "18\n",
            "20\n"
          ]
        }
      ]
    },
    {
      "cell_type": "markdown",
      "source": [
        "collection:\n",
        "* list is a collection of elements\n",
        "* hetergenous\n",
        "* mutable(modifiable)"
      ],
      "metadata": {
        "id": "L7cMkBdu8OB-"
      }
    },
    {
      "cell_type": "code",
      "source": [
        "#creating a list\n",
        "a=[\"one\",90,\"peice\",8.8,44]\n",
        "print(a)"
      ],
      "metadata": {
        "colab": {
          "base_uri": "https://localhost:8080/"
        },
        "id": "tfM7R83C8Rol",
        "outputId": "180fa15e-91b5-4fba-e043-bb0b5cc2c8b0"
      },
      "execution_count": null,
      "outputs": [
        {
          "output_type": "stream",
          "name": "stdout",
          "text": [
            "['one', 90, 'peice', 8.8, 44]\n"
          ]
        }
      ]
    },
    {
      "cell_type": "code",
      "source": [
        "for i in a:\n",
        "  print(i)"
      ],
      "metadata": {
        "colab": {
          "base_uri": "https://localhost:8080/"
        },
        "id": "bZPwftqJ-ZoW",
        "outputId": "41710525-2c5f-4dc4-8323-50e934f13283"
      },
      "execution_count": null,
      "outputs": [
        {
          "output_type": "stream",
          "name": "stdout",
          "text": [
            "one\n",
            "90\n",
            "peice\n",
            "8.8\n",
            "44\n"
          ]
        }
      ]
    },
    {
      "cell_type": "code",
      "source": [
        "#append keword\n",
        "a.append(\"DB\")\n",
        "print(a)"
      ],
      "metadata": {
        "colab": {
          "base_uri": "https://localhost:8080/"
        },
        "id": "1ZBIbd0t_h17",
        "outputId": "ff09c9bf-7af2-49f2-cebb-ebc8d7cd107b"
      },
      "execution_count": null,
      "outputs": [
        {
          "output_type": "stream",
          "name": "stdout",
          "text": [
            "['one', 90, 'peice', 8.8, 44, 'DB', 'DB', 'DB', 'DB']\n"
          ]
        }
      ]
    },
    {
      "cell_type": "code",
      "source": [
        "#insert keyword\n",
        "a.insert(3,\"hi\")\n",
        "print(a)"
      ],
      "metadata": {
        "colab": {
          "base_uri": "https://localhost:8080/"
        },
        "id": "0AMX3CnqAEuO",
        "outputId": "6f9fa61d-b7f0-4a96-80c6-9a8b55aa338b"
      },
      "execution_count": null,
      "outputs": [
        {
          "output_type": "stream",
          "name": "stdout",
          "text": [
            "['one', 90, 'peice', 'hi', 8.8, 44, 'DB', 'DB', 'DB', 'DB']\n"
          ]
        }
      ]
    },
    {
      "cell_type": "code",
      "source": [
        "#extend keyword\n",
        "a=[10,\"LUFFY\"]\n",
        "b=[20,30,\"DB\",\"ZORO\"]\n",
        "a.extend(b)\n",
        "print(a)"
      ],
      "metadata": {
        "colab": {
          "base_uri": "https://localhost:8080/"
        },
        "id": "20wXln19BSXF",
        "outputId": "a02a67ec-6cd8-4daa-8204-0b76201c3476"
      },
      "execution_count": null,
      "outputs": [
        {
          "output_type": "stream",
          "name": "stdout",
          "text": [
            "[10, 'LUFFY', 20, 30, 'DB', 'ZORO']\n"
          ]
        }
      ]
    },
    {
      "cell_type": "code",
      "source": [
        "#pop keyword\n",
        "a.pop(2)\n",
        "print(a)"
      ],
      "metadata": {
        "colab": {
          "base_uri": "https://localhost:8080/"
        },
        "id": "_lVyeiVTChBQ",
        "outputId": "0948d643-1185-490b-e6cd-2dc56be7607b"
      },
      "execution_count": null,
      "outputs": [
        {
          "output_type": "stream",
          "name": "stdout",
          "text": [
            "[10, 'LUFFY', 'DB', 'ZORO']\n"
          ]
        }
      ]
    },
    {
      "cell_type": "code",
      "source": [
        "#remove keyword\n",
        "a.remove(10)\n",
        "print(a)"
      ],
      "metadata": {
        "colab": {
          "base_uri": "https://localhost:8080/"
        },
        "id": "kzBxEFN-DJa6",
        "outputId": "cf3fdb0d-5736-45f0-d50c-22e5add54f47"
      },
      "execution_count": null,
      "outputs": [
        {
          "output_type": "stream",
          "name": "stdout",
          "text": [
            "['LUFFY', 'DB', 'ZORO']\n"
          ]
        }
      ]
    },
    {
      "cell_type": "code",
      "source": [
        "a=[\"GOKU\",10,20,\"ITACHI\"]\n",
        "print(max(a))"
      ],
      "metadata": {
        "id": "w3J6ZzN_DeJx"
      },
      "execution_count": null,
      "outputs": []
    },
    {
      "cell_type": "code",
      "source": [
        "#max keyword\n",
        "a=[10,20,30,40]\n",
        "print(max(a))"
      ],
      "metadata": {
        "colab": {
          "base_uri": "https://localhost:8080/"
        },
        "id": "0pWk4Jc1D_Ty",
        "outputId": "3f33efe2-a32b-41f7-ee15-05cda4c57811"
      },
      "execution_count": null,
      "outputs": [
        {
          "output_type": "stream",
          "name": "stdout",
          "text": [
            "40\n"
          ]
        }
      ]
    },
    {
      "cell_type": "markdown",
      "source": [
        "list comperhension\n",
        "\n",
        "\n",
        "*   itrations\n",
        "*   applies sone function on every elements\n",
        "*conditons\n",
        "-output:list\n",
        "\n"
      ],
      "metadata": {
        "id": "1Utg0mOiEaLB"
      }
    },
    {
      "cell_type": "code",
      "source": [
        "l1=[10,20,30,40]\n",
        "l2=[i**2 for i in l1]#output iteration condition\n",
        "print(l2)"
      ],
      "metadata": {
        "colab": {
          "base_uri": "https://localhost:8080/"
        },
        "id": "pez7vudFEQoI",
        "outputId": "74a4fd8a-ed27-4db3-ca9f-74d482432ca4"
      },
      "execution_count": null,
      "outputs": [
        {
          "output_type": "stream",
          "name": "stdout",
          "text": [
            "[100, 400, 900, 1600]\n"
          ]
        }
      ]
    },
    {
      "cell_type": "code",
      "source": [
        "l1=[45,67,89,90]\n",
        "l2=[i**2 for i in l1 if i>50]#output iteration condition\n",
        "print(l2)"
      ],
      "metadata": {
        "colab": {
          "base_uri": "https://localhost:8080/"
        },
        "id": "lPU6R3eXGK0B",
        "outputId": "63b6c10a-3887-4964-80ad-0c245aec2e56"
      },
      "execution_count": null,
      "outputs": [
        {
          "output_type": "stream",
          "name": "stdout",
          "text": [
            "[4489, 7921, 8100]\n"
          ]
        }
      ]
    },
    {
      "cell_type": "code",
      "source": [
        "#the salary of 5 empolyees in a comapany is taken as list the tax is 10% the salary is less than equal to 50k or it is 15% create a new list with tax ammount\n",
        "#[67000,45000,89000,34000,50000]\n",
        "a=[67000,45000,89000,34000,50000]\n",
        "tax=[]\n",
        "for i in a:\n",
        "  if(i<=50000):\n",
        "    t=i*0.1\n",
        "    tax.append(t)\n",
        "  else:\n",
        "    t=i*0.15\n",
        "    tax.append(t)\n",
        "print(tax)"
      ],
      "metadata": {
        "colab": {
          "base_uri": "https://localhost:8080/"
        },
        "id": "wzEkQ5yoGZa8",
        "outputId": "c6268f86-9c72-4a13-df77-851008660d66"
      },
      "execution_count": null,
      "outputs": [
        {
          "output_type": "stream",
          "name": "stdout",
          "text": [
            "[10050.0, 4500.0, 13350.0, 3400.0, 5000.0]\n"
          ]
        }
      ]
    },
    {
      "cell_type": "code",
      "source": [
        "#listname=[(body of if) if(condition)else(body of else)iterate]\n",
        "a=[67000,45000,89000,34000,50000]\n",
        "tax=[i*0.1 if i<=50000 else i*0.15 for i in a]\n",
        "print(tax)"
      ],
      "metadata": {
        "colab": {
          "base_uri": "https://localhost:8080/"
        },
        "id": "B1pQU2-IIrpU",
        "outputId": "11f756bb-25d2-4840-f67b-115e6fcb67cc"
      },
      "execution_count": null,
      "outputs": [
        {
          "output_type": "stream",
          "name": "stdout",
          "text": [
            "[10050.0, 4500.0, 13350.0, 3400.0, 5000.0]\n"
          ]
        }
      ]
    }
  ]
}